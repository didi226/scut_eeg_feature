{
 "cells": [
  {
   "cell_type": "markdown",
   "metadata": {},
   "source": [
    "# import"
   ]
  },
  {
   "cell_type": "code",
   "execution_count": 4,
   "metadata": {
    "pycharm": {
     "name": "#%%\n"
    }
   },
   "outputs": [
    {
     "name": "stdout",
     "output_type": "stream",
     "text": [
      "The autoreload extension is already loaded. To reload it, use:\n",
      "  %reload_ext autoreload\n"
     ]
    }
   ],
   "source": [
    "%load_ext autoreload\n",
    "%reload_ext autoreload\n",
    "#autoreload 2：装入所有 %aimport 不包含的模块。\n",
    "%autoreload 2\n",
    "#%matplotpy\n",
    "import numpy as np\n",
    "from scuteegfe.mne_features_wrapper.feature_wrapper import Feature\n",
    "import matplotlib.pyplot as plt"
   ]
  },
  {
   "cell_type": "markdown",
   "metadata": {},
   "source": [
    "# test function content"
   ]
  },
  {
   "cell_type": "markdown",
   "metadata": {},
   "source": [
    "## DFA"
   ]
  },
  {
   "cell_type": "code",
   "execution_count": null,
   "metadata": {},
   "outputs": [],
   "source": [
    "import numpy as np\n",
    "import fathon\n",
    "from fathon import fathonUtils as fu"
   ]
  },
  {
   "cell_type": "markdown",
   "metadata": {
    "heading_collapsed": true
   },
   "source": [
    "##  Itakura Distance"
   ]
  },
  {
   "cell_type": "code",
   "execution_count": 4,
   "metadata": {
    "hidden": true
   },
   "outputs": [
    {
     "name": "stdout",
     "output_type": "stream",
     "text": [
      "(4,)\n"
     ]
    }
   ],
   "source": [
    "from pyts.metrics.dtw import dtw\n",
    "rng = np.random.RandomState(42)\n",
    "rng_ = np.random.RandomState(44)\n",
    "n_epochs, n_channels, n_times = 2, 4,2500\n",
    "data1= rng.randn(n_channels, n_times)\n",
    "data2=rng_.randn(n_channels, n_times)\n",
    "n_channel, n_times = data1.shape\n",
    "Itakura_distance=np.zeros((n_channel))\n",
    "for i_channel in range(n_channel):\n",
    "    Itakura_distance[i_channel]=dtw(x=data1[i_channel,:], y=data2[i_channel,:],\n",
    "                                    dist='square', method='itakura', \n",
    "                                    options={'max_slope': 2.0}, \n",
    "                                    precomputed_cost=None, return_cost=False,\n",
    "                                    return_accumulated=False, return_path=False)\n",
    "print(Itakura_distance.shape)"
   ]
  },
  {
   "cell_type": "markdown",
   "metadata": {
    "heading_collapsed": true,
    "pycharm": {
     "name": "#%% md\n"
    }
   },
   "source": [
    "##  bicoherence"
   ]
  },
  {
   "cell_type": "code",
   "execution_count": null,
   "metadata": {
    "hidden": true,
    "pycharm": {
     "name": "#%%\n"
    }
   },
   "outputs": [],
   "source": [
    "#test hos\n",
    "'''\n",
    "bicoherence input  Multidimensional  vector [n_y,n_d] \n",
    "bicoherence input  one-dimensional   vector [n_y,1]  or [1，n_y] \n",
    "'''\n",
    "import os,sys\n",
    "from scuteegfe.HOSA.conventional.bicoherence import bicoherence\n",
    "import scipy.io as scio\n",
    "load_mat = scio.loadmat('qpc.mat')['zmat']\n",
    "y=load_mat[0:4,:]\n",
    "y1=np.transpose(load_mat[0:4,:])\n",
    "y2=load_mat[0,:][np.newaxis,:]\n",
    "y3=np.transpose(load_mat[1,:][np.newaxis,:])\n",
    "bicoherence(y, nfft=None, wind=None, nsamp=None, overlap=None)\n",
    "bicoherence(y1, nfft=None, wind=None, nsamp=None, overlap=None)\n",
    "bicoherence(y2, nfft=None, wind=None, nsamp=None, overlap=None)\n",
    "bicoherence(y3, nfft=None, wind=None, nsamp=None, overlap=None)"
   ]
  },
  {
   "cell_type": "markdown",
   "metadata": {
    "heading_collapsed": true
   },
   "source": [
    "##  wavelet_entropy unaverage content"
   ]
  },
  {
   "cell_type": "code",
   "execution_count": 18,
   "metadata": {
    "code_folding": [
     16
    ],
    "hidden": true,
    "scrolled": false
   },
   "outputs": [
    {
     "name": "stdout",
     "output_type": "stream",
     "text": [
      "(4, 7, 10)\n",
      "(4, 7, 10)\n",
      "(4, 7, 10)\n",
      "(4, 7, 10)\n",
      "[[[ 5.86436026e+02  9.25562114e+02  4.30583018e+02  9.34658395e+02\n",
      "    9.96183125e+02  4.56111139e+02  2.82892757e+02  3.18969525e+02\n",
      "    1.36964145e+02  1.12679455e+03]\n",
      "  [ 2.47695296e+02  3.03387926e+02  2.11249810e+02  3.31839487e+02\n",
      "    4.08084982e+02  3.12533833e+02  1.41892121e+02  2.38125381e+02\n",
      "    1.33547650e+02  2.28881665e+02]\n",
      "  [ 7.08266867e+01  1.07576245e+02  7.37128149e+01  9.81112973e+01\n",
      "    1.15995206e+02  1.33383380e+02  6.98686491e+01  1.05458397e+02\n",
      "    5.97068512e+01  6.33981845e+01]\n",
      "  [ 5.27696906e+01  7.41641164e+01  6.28198914e+01  5.67764712e+01\n",
      "    5.50566708e+01  7.76554062e+01  5.67054191e+01  6.55442006e+01\n",
      "    5.98297736e+01  4.37248337e+01]\n",
      "  [ 1.31035817e+01  1.24878046e+01  1.07558594e+01  1.15889801e+01\n",
      "    1.03097580e+01  1.25486637e+01  1.31128660e+01  1.15074316e+01\n",
      "    1.29877512e+01  1.03944958e+01]\n",
      "  [-3.67798397e-01 -3.61353471e-01 -3.61257322e-01 -3.67667877e-01\n",
      "   -3.67874013e-01 -3.44353318e-01 -3.16437188e-01 -3.37959512e-01\n",
      "   -3.33003915e-01 -3.67879372e-01]\n",
      "  [-3.61429270e-01 -3.65885524e-01 -3.67239155e-01 -3.46995046e-01\n",
      "   -3.26209643e-01 -3.66256617e-01 -3.48140098e-01 -3.67872686e-01\n",
      "   -3.32684962e-01 -3.56228944e-01]]\n",
      "\n",
      " [[ 1.26262532e+03  1.46374437e+03  9.24245142e+02  7.70638487e+02\n",
      "    7.95351161e+02  6.00341375e+02  9.32481508e+02  8.22037442e+02\n",
      "    3.89318424e+02  7.85405641e+02]\n",
      "  [ 4.51068188e+02  3.31174282e+02  2.42841581e+02  3.41730333e+02\n",
      "    1.94743312e+02  2.64083326e+02  2.99740144e+02  3.45418093e+02\n",
      "    1.76472728e+02  2.12178356e+02]\n",
      "  [ 1.08585987e+02  1.40494186e+02  9.97669093e+01  9.86850463e+01\n",
      "    7.44326728e+01  1.11525586e+02  7.86934021e+01  1.07493646e+02\n",
      "    1.06790015e+02  9.05068264e+01]\n",
      "  [ 5.59717775e+01  8.57444044e+01  6.41939170e+01  6.93887148e+01\n",
      "    5.79569602e+01  6.65342190e+01  6.11304688e+01  6.63184398e+01\n",
      "    6.42138193e+01  8.18739332e+01]\n",
      "  [ 1.30573212e+01  1.21775987e+01  1.27881899e+01  1.59524395e+01\n",
      "    1.37639262e+01  1.45190606e+01  1.42157120e+01  1.13900119e+01\n",
      "    9.92093534e+00  1.52613785e+01]\n",
      "  [-3.64647748e-01 -3.45366155e-01 -3.47794187e-01 -3.67842240e-01\n",
      "   -3.54160931e-01 -3.44897374e-01 -3.67380283e-01 -3.66892343e-01\n",
      "   -2.65617063e-01 -3.42520835e-01]\n",
      "  [-3.17712462e-01 -3.67057866e-01 -3.67627087e-01 -3.57772599e-01\n",
      "   -3.67134452e-01 -3.66817204e-01 -3.58553228e-01 -3.54463505e-01\n",
      "   -3.57801129e-01 -3.53659969e-01]]\n",
      "\n",
      " [[ 5.00444734e+02  4.77401070e+02  2.40009570e+02  8.45365732e+02\n",
      "    4.42753311e+02  7.36054519e+02  6.53917567e+02  7.31324066e+02\n",
      "    6.28021890e+02  7.81487831e+02]\n",
      "  [ 1.58680844e+02  9.83735014e+01  1.66615721e+02  9.90293706e+01\n",
      "    2.46622383e+02  2.00636173e+02  3.79055299e+02  3.14984521e+02\n",
      "    2.50861600e+02  4.75924470e+02]\n",
      "  [ 5.38043123e+01  5.53923044e+01  1.17113331e+02  5.87976346e+01\n",
      "    1.25556420e+02  6.60733752e+01  1.46000593e+02  2.34031133e+02\n",
      "    1.08446970e+02  1.30001695e+02]\n",
      "  [ 5.77736329e+01  7.28944936e+01  6.95296284e+01  6.70031126e+01\n",
      "    5.70943427e+01  5.44777305e+01  8.01493301e+01  1.14005116e+02\n",
      "    6.31688867e+01  5.62734153e+01]\n",
      "  [ 1.45616177e+01  1.42111013e+01  1.40433897e+01  1.48667618e+01\n",
      "    1.03158656e+01  1.40970528e+01  1.24840059e+01  1.43779116e+01\n",
      "    1.13885118e+01  1.11526399e+01]\n",
      "  [-3.61980240e-01 -2.81902430e-01 -2.09785809e-01 -2.66702088e-01\n",
      "   -3.13373060e-01 -3.64092796e-01 -3.56000976e-01 -1.88584042e-01\n",
      "   -3.41615925e-01 -3.67553531e-01]\n",
      "  [-3.57321314e-01 -1.82340045e-01 -3.43992113e-01 -2.21334046e-01\n",
      "   -3.64689449e-01 -3.67868733e-01 -3.59524923e-01 -3.60156514e-01\n",
      "   -3.66876125e-01 -3.12676463e-01]]\n",
      "\n",
      " [[ 4.48970525e+02  5.87556490e+02  7.83748151e+02  3.92609152e+02\n",
      "    3.50021563e+02  4.83692366e+02  5.05136161e+02  2.13513526e+02\n",
      "    3.46523529e+02  4.44229223e+02]\n",
      "  [ 3.91864751e+02  3.36601654e+02  3.69212772e+02  1.31453532e+02\n",
      "    1.96016440e+02  1.58380788e+02  2.25693980e+02  1.88699899e+02\n",
      "    1.61274371e+02  1.76334618e+02]\n",
      "  [ 9.26556859e+01  1.04394845e+02  1.73259471e+02  8.51166112e+01\n",
      "    1.14863952e+02  5.38391922e+01  1.04214336e+02  6.66999800e+01\n",
      "    7.81853799e+01  6.86012344e+01]\n",
      "  [ 7.74040589e+01  6.30137943e+01  1.10709017e+02  6.34615642e+01\n",
      "    9.10099768e+01  3.78196579e+01  7.18298074e+01  4.73437972e+01\n",
      "    4.85686678e+01  7.66637375e+01]\n",
      "  [ 1.77438418e+01  1.16777112e+01  1.74321606e+01  1.43760496e+01\n",
      "    1.56999639e+01  1.00218980e+01  1.30974077e+01  1.06920686e+01\n",
      "    1.07239935e+01  1.47478672e+01]\n",
      "  [-3.64319068e-01 -3.66937508e-01 -3.31145558e-01 -2.40331050e-01\n",
      "   -2.76234526e-01 -3.61833543e-01 -3.31188029e-01 -3.60079390e-01\n",
      "   -3.20393809e-01 -3.52046849e-01]\n",
      "  [-3.55603765e-01 -3.53013271e-01 -3.67575556e-01 -3.19697466e-01\n",
      "   -3.29423784e-01 -3.66516152e-01 -3.65654160e-01 -3.67181046e-01\n",
      "   -3.66623904e-01 -3.38903957e-01]]]\n",
      "[ 5.86436026e+02  9.25562114e+02  4.30583018e+02  9.34658395e+02\n",
      "  9.96183125e+02  4.56111139e+02  2.82892757e+02  3.18969525e+02\n",
      "  1.36964145e+02  1.12679455e+03  2.47695296e+02  3.03387926e+02\n",
      "  2.11249810e+02  3.31839487e+02  4.08084982e+02  3.12533833e+02\n",
      "  1.41892121e+02  2.38125381e+02  1.33547650e+02  2.28881665e+02\n",
      "  7.08266867e+01  1.07576245e+02  7.37128149e+01  9.81112973e+01\n",
      "  1.15995206e+02  1.33383380e+02  6.98686491e+01  1.05458397e+02\n",
      "  5.97068512e+01  6.33981845e+01  5.27696906e+01  7.41641164e+01\n",
      "  6.28198914e+01  5.67764712e+01  5.50566708e+01  7.76554062e+01\n",
      "  5.67054191e+01  6.55442006e+01  5.98297736e+01  4.37248337e+01\n",
      "  1.31035817e+01  1.24878046e+01  1.07558594e+01  1.15889801e+01\n",
      "  1.03097580e+01  1.25486637e+01  1.31128660e+01  1.15074316e+01\n",
      "  1.29877512e+01  1.03944958e+01 -3.67798397e-01 -3.61353471e-01\n",
      " -3.61257322e-01 -3.67667877e-01 -3.67874013e-01 -3.44353318e-01\n",
      " -3.16437188e-01 -3.37959512e-01 -3.33003915e-01 -3.67879372e-01\n",
      " -3.61429270e-01 -3.65885524e-01 -3.67239155e-01 -3.46995046e-01\n",
      " -3.26209643e-01 -3.66256617e-01 -3.48140098e-01 -3.67872686e-01\n",
      " -3.32684962e-01 -3.56228944e-01  1.26262532e+03  1.46374437e+03\n",
      "  9.24245142e+02  7.70638487e+02  7.95351161e+02  6.00341375e+02\n",
      "  9.32481508e+02  8.22037442e+02  3.89318424e+02  7.85405641e+02\n",
      "  4.51068188e+02  3.31174282e+02  2.42841581e+02  3.41730333e+02\n",
      "  1.94743312e+02  2.64083326e+02  2.99740144e+02  3.45418093e+02\n",
      "  1.76472728e+02  2.12178356e+02  1.08585987e+02  1.40494186e+02\n",
      "  9.97669093e+01  9.86850463e+01  7.44326728e+01  1.11525586e+02\n",
      "  7.86934021e+01  1.07493646e+02  1.06790015e+02  9.05068264e+01\n",
      "  5.59717775e+01  8.57444044e+01  6.41939170e+01  6.93887148e+01\n",
      "  5.79569602e+01  6.65342190e+01  6.11304688e+01  6.63184398e+01\n",
      "  6.42138193e+01  8.18739332e+01  1.30573212e+01  1.21775987e+01\n",
      "  1.27881899e+01  1.59524395e+01  1.37639262e+01  1.45190606e+01\n",
      "  1.42157120e+01  1.13900119e+01  9.92093534e+00  1.52613785e+01\n",
      " -3.64647748e-01 -3.45366155e-01 -3.47794187e-01 -3.67842240e-01\n",
      " -3.54160931e-01 -3.44897374e-01 -3.67380283e-01 -3.66892343e-01\n",
      " -2.65617063e-01 -3.42520835e-01 -3.17712462e-01 -3.67057866e-01\n",
      " -3.67627087e-01 -3.57772599e-01 -3.67134452e-01 -3.66817204e-01\n",
      " -3.58553228e-01 -3.54463505e-01 -3.57801129e-01 -3.53659969e-01\n",
      "  5.00444734e+02  4.77401070e+02  2.40009570e+02  8.45365732e+02\n",
      "  4.42753311e+02  7.36054519e+02  6.53917567e+02  7.31324066e+02\n",
      "  6.28021890e+02  7.81487831e+02  1.58680844e+02  9.83735014e+01\n",
      "  1.66615721e+02  9.90293706e+01  2.46622383e+02  2.00636173e+02\n",
      "  3.79055299e+02  3.14984521e+02  2.50861600e+02  4.75924470e+02\n",
      "  5.38043123e+01  5.53923044e+01  1.17113331e+02  5.87976346e+01\n",
      "  1.25556420e+02  6.60733752e+01  1.46000593e+02  2.34031133e+02\n",
      "  1.08446970e+02  1.30001695e+02  5.77736329e+01  7.28944936e+01\n",
      "  6.95296284e+01  6.70031126e+01  5.70943427e+01  5.44777305e+01\n",
      "  8.01493301e+01  1.14005116e+02  6.31688867e+01  5.62734153e+01\n",
      "  1.45616177e+01  1.42111013e+01  1.40433897e+01  1.48667618e+01\n",
      "  1.03158656e+01  1.40970528e+01  1.24840059e+01  1.43779116e+01\n",
      "  1.13885118e+01  1.11526399e+01 -3.61980240e-01 -2.81902430e-01\n",
      " -2.09785809e-01 -2.66702088e-01 -3.13373060e-01 -3.64092796e-01\n",
      " -3.56000976e-01 -1.88584042e-01 -3.41615925e-01 -3.67553531e-01\n",
      " -3.57321314e-01 -1.82340045e-01 -3.43992113e-01 -2.21334046e-01\n",
      " -3.64689449e-01 -3.67868733e-01 -3.59524923e-01 -3.60156514e-01\n",
      " -3.66876125e-01 -3.12676463e-01  4.48970525e+02  5.87556490e+02\n",
      "  7.83748151e+02  3.92609152e+02  3.50021563e+02  4.83692366e+02\n",
      "  5.05136161e+02  2.13513526e+02  3.46523529e+02  4.44229223e+02\n",
      "  3.91864751e+02  3.36601654e+02  3.69212772e+02  1.31453532e+02\n",
      "  1.96016440e+02  1.58380788e+02  2.25693980e+02  1.88699899e+02\n",
      "  1.61274371e+02  1.76334618e+02  9.26556859e+01  1.04394845e+02\n",
      "  1.73259471e+02  8.51166112e+01  1.14863952e+02  5.38391922e+01\n",
      "  1.04214336e+02  6.66999800e+01  7.81853799e+01  6.86012344e+01\n",
      "  7.74040589e+01  6.30137943e+01  1.10709017e+02  6.34615642e+01\n",
      "  9.10099768e+01  3.78196579e+01  7.18298074e+01  4.73437972e+01\n",
      "  4.85686678e+01  7.66637375e+01  1.77438418e+01  1.16777112e+01\n",
      "  1.74321606e+01  1.43760496e+01  1.56999639e+01  1.00218980e+01\n",
      "  1.30974077e+01  1.06920686e+01  1.07239935e+01  1.47478672e+01\n",
      " -3.64319068e-01 -3.66937508e-01 -3.31145558e-01 -2.40331050e-01\n",
      " -2.76234526e-01 -3.61833543e-01 -3.31188029e-01 -3.60079390e-01\n",
      " -3.20393809e-01 -3.52046849e-01 -3.55603765e-01 -3.53013271e-01\n",
      " -3.67575556e-01 -3.19697466e-01 -3.29423784e-01 -3.66516152e-01\n",
      " -3.65654160e-01 -3.67181046e-01 -3.66623904e-01 -3.38903957e-01]\n",
      "[[[ 5.86436026e+02  9.25562114e+02  4.30583018e+02  9.34658395e+02\n",
      "    9.96183125e+02  4.56111139e+02  2.82892757e+02  3.18969525e+02\n",
      "    1.36964145e+02  1.12679455e+03]\n",
      "  [ 2.47695296e+02  3.03387926e+02  2.11249810e+02  3.31839487e+02\n",
      "    4.08084982e+02  3.12533833e+02  1.41892121e+02  2.38125381e+02\n",
      "    1.33547650e+02  2.28881665e+02]\n",
      "  [ 7.08266867e+01  1.07576245e+02  7.37128149e+01  9.81112973e+01\n",
      "    1.15995206e+02  1.33383380e+02  6.98686491e+01  1.05458397e+02\n",
      "    5.97068512e+01  6.33981845e+01]\n",
      "  [ 5.27696906e+01  7.41641164e+01  6.28198914e+01  5.67764712e+01\n",
      "    5.50566708e+01  7.76554062e+01  5.67054191e+01  6.55442006e+01\n",
      "    5.98297736e+01  4.37248337e+01]\n",
      "  [ 1.31035817e+01  1.24878046e+01  1.07558594e+01  1.15889801e+01\n",
      "    1.03097580e+01  1.25486637e+01  1.31128660e+01  1.15074316e+01\n",
      "    1.29877512e+01  1.03944958e+01]\n",
      "  [-3.67798397e-01 -3.61353471e-01 -3.61257322e-01 -3.67667877e-01\n",
      "   -3.67874013e-01 -3.44353318e-01 -3.16437188e-01 -3.37959512e-01\n",
      "   -3.33003915e-01 -3.67879372e-01]\n",
      "  [-3.61429270e-01 -3.65885524e-01 -3.67239155e-01 -3.46995046e-01\n",
      "   -3.26209643e-01 -3.66256617e-01 -3.48140098e-01 -3.67872686e-01\n",
      "   -3.32684962e-01 -3.56228944e-01]]\n",
      "\n",
      " [[ 1.26262532e+03  1.46374437e+03  9.24245142e+02  7.70638487e+02\n",
      "    7.95351161e+02  6.00341375e+02  9.32481508e+02  8.22037442e+02\n",
      "    3.89318424e+02  7.85405641e+02]\n",
      "  [ 4.51068188e+02  3.31174282e+02  2.42841581e+02  3.41730333e+02\n",
      "    1.94743312e+02  2.64083326e+02  2.99740144e+02  3.45418093e+02\n",
      "    1.76472728e+02  2.12178356e+02]\n",
      "  [ 1.08585987e+02  1.40494186e+02  9.97669093e+01  9.86850463e+01\n",
      "    7.44326728e+01  1.11525586e+02  7.86934021e+01  1.07493646e+02\n",
      "    1.06790015e+02  9.05068264e+01]\n",
      "  [ 5.59717775e+01  8.57444044e+01  6.41939170e+01  6.93887148e+01\n",
      "    5.79569602e+01  6.65342190e+01  6.11304688e+01  6.63184398e+01\n",
      "    6.42138193e+01  8.18739332e+01]\n",
      "  [ 1.30573212e+01  1.21775987e+01  1.27881899e+01  1.59524395e+01\n",
      "    1.37639262e+01  1.45190606e+01  1.42157120e+01  1.13900119e+01\n",
      "    9.92093534e+00  1.52613785e+01]\n",
      "  [-3.64647748e-01 -3.45366155e-01 -3.47794187e-01 -3.67842240e-01\n",
      "   -3.54160931e-01 -3.44897374e-01 -3.67380283e-01 -3.66892343e-01\n",
      "   -2.65617063e-01 -3.42520835e-01]\n",
      "  [-3.17712462e-01 -3.67057866e-01 -3.67627087e-01 -3.57772599e-01\n",
      "   -3.67134452e-01 -3.66817204e-01 -3.58553228e-01 -3.54463505e-01\n",
      "   -3.57801129e-01 -3.53659969e-01]]\n",
      "\n",
      " [[ 5.00444734e+02  4.77401070e+02  2.40009570e+02  8.45365732e+02\n",
      "    4.42753311e+02  7.36054519e+02  6.53917567e+02  7.31324066e+02\n",
      "    6.28021890e+02  7.81487831e+02]\n",
      "  [ 1.58680844e+02  9.83735014e+01  1.66615721e+02  9.90293706e+01\n",
      "    2.46622383e+02  2.00636173e+02  3.79055299e+02  3.14984521e+02\n",
      "    2.50861600e+02  4.75924470e+02]\n",
      "  [ 5.38043123e+01  5.53923044e+01  1.17113331e+02  5.87976346e+01\n",
      "    1.25556420e+02  6.60733752e+01  1.46000593e+02  2.34031133e+02\n",
      "    1.08446970e+02  1.30001695e+02]\n",
      "  [ 5.77736329e+01  7.28944936e+01  6.95296284e+01  6.70031126e+01\n",
      "    5.70943427e+01  5.44777305e+01  8.01493301e+01  1.14005116e+02\n",
      "    6.31688867e+01  5.62734153e+01]\n",
      "  [ 1.45616177e+01  1.42111013e+01  1.40433897e+01  1.48667618e+01\n",
      "    1.03158656e+01  1.40970528e+01  1.24840059e+01  1.43779116e+01\n",
      "    1.13885118e+01  1.11526399e+01]\n",
      "  [-3.61980240e-01 -2.81902430e-01 -2.09785809e-01 -2.66702088e-01\n",
      "   -3.13373060e-01 -3.64092796e-01 -3.56000976e-01 -1.88584042e-01\n",
      "   -3.41615925e-01 -3.67553531e-01]\n",
      "  [-3.57321314e-01 -1.82340045e-01 -3.43992113e-01 -2.21334046e-01\n",
      "   -3.64689449e-01 -3.67868733e-01 -3.59524923e-01 -3.60156514e-01\n",
      "   -3.66876125e-01 -3.12676463e-01]]\n",
      "\n",
      " [[ 4.48970525e+02  5.87556490e+02  7.83748151e+02  3.92609152e+02\n",
      "    3.50021563e+02  4.83692366e+02  5.05136161e+02  2.13513526e+02\n",
      "    3.46523529e+02  4.44229223e+02]\n",
      "  [ 3.91864751e+02  3.36601654e+02  3.69212772e+02  1.31453532e+02\n",
      "    1.96016440e+02  1.58380788e+02  2.25693980e+02  1.88699899e+02\n",
      "    1.61274371e+02  1.76334618e+02]\n",
      "  [ 9.26556859e+01  1.04394845e+02  1.73259471e+02  8.51166112e+01\n",
      "    1.14863952e+02  5.38391922e+01  1.04214336e+02  6.66999800e+01\n",
      "    7.81853799e+01  6.86012344e+01]\n",
      "  [ 7.74040589e+01  6.30137943e+01  1.10709017e+02  6.34615642e+01\n",
      "    9.10099768e+01  3.78196579e+01  7.18298074e+01  4.73437972e+01\n",
      "    4.85686678e+01  7.66637375e+01]\n",
      "  [ 1.77438418e+01  1.16777112e+01  1.74321606e+01  1.43760496e+01\n",
      "    1.56999639e+01  1.00218980e+01  1.30974077e+01  1.06920686e+01\n",
      "    1.07239935e+01  1.47478672e+01]\n",
      "  [-3.64319068e-01 -3.66937508e-01 -3.31145558e-01 -2.40331050e-01\n",
      "   -2.76234526e-01 -3.61833543e-01 -3.31188029e-01 -3.60079390e-01\n",
      "   -3.20393809e-01 -3.52046849e-01]\n",
      "  [-3.55603765e-01 -3.53013271e-01 -3.67575556e-01 -3.19697466e-01\n",
      "   -3.29423784e-01 -3.66516152e-01 -3.65654160e-01 -3.67181046e-01\n",
      "   -3.66623904e-01 -3.38903957e-01]]]\n",
      "(280,)\n"
     ]
    }
   ],
   "source": [
    "import pywt\n",
    "def imp_extract(section_data,Fs, time_sec,wavelet_name):\n",
    "    f = np.arange(1, 129, 0.2)\n",
    "    [wt, f1] = pywt.cwt(section_data, f, wavelet_name, 1 / Fs)  # 'mexh'\n",
    "    cwt_re = np.sum(abs(wt), axis=1) * 2 / time_sec;  #\n",
    "    return cwt_re,f1\n",
    "def band_DE(Pxx, f, Par_ratios=1, band=None):\n",
    "    \"\"\"\n",
    "    Feature extraction of fixed frequency band\n",
    "    :param Pxx:  frequency band parameter\n",
    "    :param f:    frequency range\n",
    "    :param band: selected frequency band\n",
    "    :return:     固定频带的特征\n",
    "    \"\"\"\n",
    "    fea_num=int(band.shape[0])\n",
    "    psd = np.empty((fea_num))\n",
    "    for i in range(fea_num):\n",
    "        idx = np.where((f >= band[i, 0]) & (f <= band[i, 1]))\n",
    "        psd[i] = np.sum(np.multiply(Pxx[idx], Pxx[idx]))\n",
    "        if Par_ratios == 1:\n",
    "            san_D = np.hstack((psd, psd[2] / psd[1], psd[3] / psd[1]))\n",
    "        else:\n",
    "            san_D = psd\n",
    "    return san_D\n",
    "rng = np.random.RandomState(42)\n",
    "n_epochs, n_channels, n_times = 2, 4,2500\n",
    "data= rng.randn(n_channels, n_times)\n",
    "sfreq=250\n",
    "m_times=1\n",
    "m_Par_ratios=1\n",
    "m_entropy=True               \n",
    "wavelet_name= 'gaus1'\n",
    "Average=False\n",
    "band=np.array([[2, 3.8], [4, 7], [8, 13], [14, 30], [31, 48]])\n",
    "time_sec = int(m_times * sfreq)\n",
    "fea_num = int(band.shape[0] + m_Par_ratios * 2)\n",
    "n_channel, n_times = data.shape\n",
    "section_num = int(np.ceil((n_times/ time_sec)))\n",
    "if Average:\n",
    "   de = np.empty((int(n_channel),fea_num))\n",
    "else:\n",
    "   de = np.empty((int(n_channel),fea_num,section_num))\n",
    "\n",
    "for channel in range(n_channel):\n",
    "    # initialization\n",
    "    section_de = np.empty((fea_num, section_num))\n",
    "    # for one second calculate cwt\n",
    "    for section in range(section_num):\n",
    "        section_data = data[channel, section * time_sec:(section + 1) * time_sec]\n",
    "        spec, f = imp_extract(section_data=section_data, Fs=sfreq, time_sec=time_sec,wavelet_name=wavelet_name)\n",
    "        section_de[:, section] = band_DE(spec, f, Par_ratios=m_Par_ratios, band=band)\n",
    "    if Average:\n",
    "      de_mean = np.sum(section_de, axis=1);\n",
    "    else:\n",
    "      de_mean = section_de; \n",
    "    if m_entropy:\n",
    "        de_mean = np.multiply(de_mean, np.log(de_mean));\n",
    "    de[channel,:] = de_mean\n",
    "    print(de.shape)\n",
    "print(de)\n",
    "feature = de.reshape(-1)\n",
    "print(feature)\n",
    "feashape=feature.reshape((4,7,10))\n",
    "print(feashape)\n",
    "print(feature.shape)"
   ]
  },
  {
   "cell_type": "markdown",
   "metadata": {
    "heading_collapsed": true
   },
   "source": [
    "# test function"
   ]
  },
  {
   "cell_type": "markdown",
   "metadata": {
    "heading_collapsed": true,
    "hidden": true,
    "pycharm": {
     "name": "#%% md\n"
    }
   },
   "source": [
    "## test EMD"
   ]
  },
  {
   "cell_type": "code",
   "execution_count": null,
   "metadata": {
    "hidden": true,
    "pycharm": {
     "name": "#%%\n"
    }
   },
   "outputs": [],
   "source": [
    "rng = np.random.RandomState(42)\n",
    "n_epochs, n_channels, n_times = 2, 2,250\n",
    "X = rng.randn(n_epochs, n_channels, n_times)\n",
    "feat1=Feature(X,sfreq=250,selected_funcs={'decorr_time'})\n",
    "print(feat1.features.shape)\n",
    "# feat2=Feature(X,sfreq=250,selected_funcs={'pow_freq_bands'})juju\n",
    "# print(feat2.features.shape)\n",
    "select_para=dict({'EMD__EMD_times': 1,\n",
    "                  'EMD__EMD_params': 6})\n",
    "feat=Feature(X,sfreq=250,selected_funcs={'EMD'},funcs_params=select_para)\n",
    "print(feat.features.shape)"
   ]
  },
  {
   "cell_type": "markdown",
   "metadata": {
    "heading_collapsed": true,
    "hidden": true
   },
   "source": [
    "## test wavelet_entropy"
   ]
  },
  {
   "cell_type": "code",
   "execution_count": 3,
   "metadata": {
    "hidden": true,
    "pycharm": {
     "name": "#%%\n"
    }
   },
   "outputs": [
    {
     "name": "stdout",
     "output_type": "stream",
     "text": [
      "(2, 2, 7)\n"
     ]
    }
   ],
   "source": [
    "rng = np.random.RandomState(42)\n",
    "n_epochs, n_channels, n_times = 2,2,2000\n",
    "X = rng.randn(n_epochs, n_channels, n_times)\n",
    "feat=Feature(X,sfreq=250,selected_funcs={'wavelet_entropy'})\n",
    "print(feat.features.shape)"
   ]
  },
  {
   "cell_type": "markdown",
   "metadata": {
    "hidden": true
   },
   "source": [
    "##  Itakura Distance"
   ]
  },
  {
   "cell_type": "code",
   "execution_count": 3,
   "metadata": {
    "hidden": true
   },
   "outputs": [
    {
     "name": "stdout",
     "output_type": "stream",
     "text": [
      "(2, 2000)\n",
      "(2, 2, 1)\n"
     ]
    }
   ],
   "source": [
    "rng = np.random.RandomState(42)\n",
    "n_epochs, n_channels, n_times = 2,2,2000\n",
    "rng_ = np.random.RandomState(43)\n",
    "data1 = rng.randn(n_epochs, n_channels, n_times)\n",
    "data2=  np.squeeze(rng_.randn(1, n_channels, n_times))\n",
    "select_para=dict({'Itakura_Distance__baseline_data':data2})\n",
    "feat=Feature(data1,selected_funcs={'Itakura_Distance'},funcs_params=select_para)"
   ]
  },
  {
   "cell_type": "markdown",
   "metadata": {
    "hidden": true
   },
   "source": [
    "## test wavelet_entropy unaverage function"
   ]
  },
  {
   "cell_type": "code",
   "execution_count": 20,
   "metadata": {
    "hidden": true
   },
   "outputs": [
    {
     "name": "stdout",
     "output_type": "stream",
     "text": [
      "feat1.features (2, 2, 56) [[[1.22059518e+02 1.78518279e+02 9.46334101e+01 1.79988077e+02\n",
      "   1.89879705e+02 9.92134080e+01 6.72263283e+01 7.40883578e+01\n",
      "   6.03991285e+01 7.11401409e+01 5.31658010e+01 7.65068846e+01\n",
      "   9.05637194e+01 7.28733917e+01 3.87882822e+01 5.85172249e+01\n",
      "   2.26876283e+01 3.12529579e+01 2.33852597e+01 2.91052202e+01\n",
      "   3.31357003e+01 3.69521541e+01 2.24549070e+01 3.07753666e+01\n",
      "   1.81907252e+01 2.34938912e+01 2.07238479e+01 1.92106680e+01\n",
      "   1.87746164e+01 2.43302620e+01 1.91927028e+01 2.13969569e+01\n",
      "   6.82347250e+00 6.61147702e+00 6.00189926e+00 6.29771770e+00\n",
      "   5.84134915e+00 6.63253265e+00 6.82665141e+00 6.26898220e+00\n",
      "   3.75628406e-01 4.39315379e-01 4.39855306e-01 3.80426158e-01\n",
      "   3.65882723e-01 5.07073340e-01 5.78909551e-01 5.25919789e-01\n",
      "   3.01175293e-01 3.30248027e-01 3.89796589e-01 2.51097245e-01\n",
      "   2.07308363e-01 3.33870311e-01 4.94806723e-01 3.65652283e-01]\n",
      "  [3.77272049e+01 2.10614622e+02 2.31842121e+02 2.62736423e+02\n",
      "   1.78305318e+02 1.53162741e+02 1.57251042e+02 1.24451119e+02\n",
      "   3.69877867e+01 5.66880633e+01 9.83117082e+01 7.63822343e+01\n",
      "   5.94461198e+01 7.83558592e+01 4.98252974e+01 6.35955574e+01\n",
      "   1.99479790e+01 2.08671765e+01 3.14800837e+01 3.84879248e+01\n",
      "   2.94834394e+01 2.92364177e+01 2.35584773e+01 3.21392233e+01\n",
      "   1.99787565e+01 1.58310228e+01 1.90069555e+01 2.62425419e+01\n",
      "   2.10639997e+01 2.23381036e+01 1.95085322e+01 2.16402696e+01\n",
      "   6.78376991e+00 5.87196718e+00 6.80762555e+00 6.50378976e+00\n",
      "   6.71517941e+00 7.77715905e+00 7.04833435e+00 7.30253604e+00\n",
      "   5.39312589e-01 3.68105299e-01 3.20206863e-01 5.03885820e-01\n",
      "   4.95969115e-01 3.73123568e-01 4.72821610e-01 5.05369001e-01\n",
      "   5.40144690e-01 2.79265544e-01 1.93333590e-01 3.43568660e-01\n",
      "   3.54337673e-01 2.85085299e-01 3.91538700e-01 3.40279581e-01]]\n",
      "\n",
      " [[1.79636508e+02 1.61646240e+02 8.71434894e+01 1.55607860e+02\n",
      "   1.07079681e+02 1.03004257e+02 5.88886775e+01 1.65472335e+02\n",
      "   7.04466146e+01 7.90431517e+01 4.60735539e+01 5.33524371e+01\n",
      "   4.23582345e+01 2.91651944e+01 4.40232790e+01 2.93150888e+01\n",
      "   2.45775931e+01 3.12343622e+01 3.10758503e+01 2.73531167e+01\n",
      "   1.84554594e+01 1.88599157e+01 3.33839327e+01 1.97199560e+01\n",
      "   2.03037063e+01 2.15872960e+01 2.10689167e+01 2.53318053e+01\n",
      "   1.94623501e+01 2.31879728e+01 2.23724136e+01 2.17552732e+01\n",
      "   7.20078296e+00 6.22752484e+00 5.70010149e+00 7.54956791e+00\n",
      "   7.31677303e+00 7.19923265e+00 7.14276492e+00 7.41858632e+00\n",
      "   3.48882529e-01 3.95155830e-01 6.74483466e-01 5.12687296e-01\n",
      "   4.35699448e-01 6.46658324e-01 7.58324537e-01 6.72689624e-01\n",
      "   2.88214081e-01 2.73107733e-01 4.57288725e-01 4.74801277e-01\n",
      "   4.59470287e-01 7.95056346e-01 5.08195076e-01 7.42118619e-01]\n",
      "  [9.68217274e+01 1.47410714e+02 1.33594160e+02 1.46621060e+02\n",
      "   1.29188735e+02 1.54959780e+02 9.79362022e+01 1.22252525e+02\n",
      "   6.01887216e+01 5.10229248e+01 8.52626545e+01 7.33364940e+01\n",
      "   6.10192317e+01 1.02742146e+02 8.76089781e+01 7.73981449e+01\n",
      "   3.52455089e+01 2.15270940e+01 3.96681585e+01 5.77084651e+01\n",
      "   3.14488360e+01 3.62169426e+01 2.78507830e+01 3.05348960e+01\n",
      "   1.92909882e+01 1.86272497e+01 2.49235145e+01 3.26928578e+01\n",
      "   2.08103748e+01 1.90833812e+01 2.42702815e+01 2.07719336e+01\n",
      "   5.84355791e+00 7.16084935e+00 6.61016199e+00 7.25524958e+00\n",
      "   6.22699456e+00 6.14341586e+00 8.35735196e+00 6.32893177e+00\n",
      "   5.85583278e-01 4.21910232e-01 4.65246580e-01 7.86899700e-01\n",
      "   5.15392198e-01 3.52503272e-01 3.17898731e-01 3.94517156e-01\n",
      "   3.20508355e-01 3.65076088e-01 2.92314551e-01 4.45792484e-01\n",
      "   3.41046163e-01 1.85740536e-01 2.77029616e-01 2.68377667e-01]]]\n",
      "feat2.features (2, 2, 7) [[[1005.60708287  521.95457319  229.74919414  165.31367032   51.30408189\n",
      "      3.61301065    2.67395483]\n",
      "  [1356.09058979  519.59262615  225.2007217   165.61018186   54.81036124\n",
      "      3.57879387    2.72755374]]\n",
      "\n",
      " [[1018.47904747  393.77755401  204.66018621  175.06973413   55.75533413\n",
      "      4.44458105    3.99825214]\n",
      "  [1028.7849037   598.57929534  280.20068405  180.47058137   53.92651298\n",
      "      3.83995115    2.49588546]]]\n",
      "feat_mean (2, 2, 7) [[[1005.60708287  521.95457319  229.74919414  165.31367032   51.30408189\n",
      "      3.61301065    2.67395483]\n",
      "  [1356.09058979  519.59262615  225.2007217   165.61018186   54.81036124\n",
      "      3.57879387    2.72755374]]\n",
      "\n",
      " [[1018.47904747  393.77755401  204.66018621  175.06973413   55.75533413\n",
      "      4.44458105    3.99825214]\n",
      "  [1028.7849037   598.57929534  280.20068405  180.47058137   53.92651298\n",
      "      3.83995115    2.49588546]]]\n"
     ]
    }
   ],
   "source": [
    "rng = np.random.RandomState(42)\n",
    "n_epochs, n_channels, n_times = 2,2,2000\n",
    "X = rng.randn(n_epochs, n_channels, n_times)\n",
    "select_para1=dict({'wavelet_entropy__Average': False,'wavelet_entropy__m_entropy': False})\n",
    "select_para2=dict({'wavelet_entropy__m_entropy': False})\n",
    "feat1=Feature(X,sfreq=250,selected_funcs={'wavelet_entropy'},funcs_params=select_para1)\n",
    "feat2=Feature(X,sfreq=250,selected_funcs={'wavelet_entropy'},funcs_params=select_para2)\n",
    "feat5=feat1.features.reshape((n_epochs, n_channels,7,8))\n",
    "feat_mean=np.sum(feat5,axis=3)\n",
    "print(\"feat1.features\",feat1.features.shape,feat1.features)\n",
    "print(\"feat2.features\",feat2.features.shape,feat2.features)\n",
    "print(\"feat_mean\",feat_mean.shape,feat_mean)"
   ]
  },
  {
   "cell_type": "markdown",
   "metadata": {},
   "source": [
    "# other test"
   ]
  },
  {
   "cell_type": "markdown",
   "metadata": {},
   "source": [
    "## DFA"
   ]
  },
  {
   "cell_type": "code",
   "execution_count": 37,
   "metadata": {},
   "outputs": [
    {
     "name": "stdout",
     "output_type": "stream",
     "text": [
      "[  10   11   12 ... 1998 1999 2000]\n"
     ]
    },
    {
     "data": {
      "image/png": "[encoded data removed]",
      "text/plain": [
       "<Figure size 432x288 with 1 Axes>"
      ]
     },
     "metadata": {
      "needs_background": "light"
     },
     "output_type": "display_data"
    }
   ],
   "source": [
    "import numpy as np\n",
    "import fathon\n",
    "from fathon import fathonUtils as fu\n",
    "\n",
    "#time series\n",
    "a = np.random.randn(10000)\n",
    "#plt.plot(a)\n",
    "#zero-mean cumulative sum\n",
    "a = fu.toAggregated(a)\n",
    "\n",
    "#initialize dfa object\n",
    "plt.plot(a)\n",
    "pydfa = fathon.DFA(a)\n",
    "#compute fluctuation function and Hurst exponent\n",
    "#wins = fu.linRangeByStep(10, 2000)\n",
    "wins = np.arange(10, 2001,dtype=np.int64)\n",
    "print(wins)\n",
    "#plt.plot(wins)\n",
    "\n",
    "\n",
    "#compute Hurst exponent in different ranges\n"
   ]
  },
  {
   "cell_type": "code",
   "execution_count": 35,
   "metadata": {},
   "outputs": [
    {
     "name": "stdout",
     "output_type": "stream",
     "text": [
      "(1991,)\n",
      "(1991,)\n",
      "(2,) (2,)\n"
     ]
    },
    {
     "data": {
      "image/png": "[encoded data removed]",
      "text/plain": [
       "<Figure size 432x288 with 1 Axes>"
      ]
     },
     "metadata": {
      "needs_background": "light"
     },
     "output_type": "display_data"
    }
   ],
   "source": [
    "n, F = pydfa.computeFlucVec(wins, revSeg=True, polOrd=3)\n",
    "print(n.shape)\n",
    "print(F.shape)\n",
    "plt.plot(n,F)\n",
    "H, H_intercept = pydfa.fitFlucVec()\n",
    "\n",
    "\n",
    "#compute Hurst exponent in different ranges\n",
    "limits_list = np.array([[15,2000], [200,1000]], dtype=int)\n",
    "list_H, list_H_intercept = pydfa.multiFitFlucVec(limits_list)\n",
    "print(list_H.shape, list_H_intercept.shape)\n",
    "#plt.plot(H,H_intercept)"
   ]
  },
  {
   "cell_type": "code",
   "execution_count": null,
   "metadata": {},
   "outputs": [],
   "source": []
  }
 ],
 "metadata": {
  "kernelspec": {
   "display_name": "py3.9",
   "language": "python",
   "name": "py3.9"
  },
  "language_info": {
   "codemirror_mode": {
    "name": "ipython",
    "version": 3
   },
   "file_extension": ".py",
   "mimetype": "text/x-python",
   "name": "python",
   "nbconvert_exporter": "python",
   "pygments_lexer": "ipython3",
   "version": "3.9.12"
  },
  "toc": {
   "base_numbering": 1,
   "nav_menu": {},
   "number_sections": true,
   "sideBar": false,
   "skip_h1_title": false,
   "title_cell": "Table of Contents",
   "title_sidebar": "Contents",
   "toc_cell": false,
   "toc_position": {
    "height": "795px",
    "left": "1536px",
    "top": "53px",
    "width": "205.391px"
   },
   "toc_section_display": true,
   "toc_window_display": true
  }
 },
 "nbformat": 4,
 "nbformat_minor": 1
}
