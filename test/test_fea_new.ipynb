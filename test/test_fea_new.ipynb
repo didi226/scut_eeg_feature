{
 "cells": [
  {
   "cell_type": "markdown",
   "metadata": {},
   "source": [
    "# import"
   ]
  },
  {
   "cell_type": "code",
   "execution_count": 1,
   "metadata": {
    "pycharm": {
     "name": "#%%\n"
    }
   },
   "outputs": [],
   "source": [
    "%load_ext autoreload\n",
    "%reload_ext autoreload\n",
    "#autoreload 2：装入所有 %aimport 不包含的模块。\n",
    "%autoreload 2\n",
    "#%matplotpy\n",
    "import numpy as np\n",
    "from scuteegfe.mne_features_wrapper.feature_wrapper import Feature"
   ]
  },
  {
   "cell_type": "markdown",
   "metadata": {
    "pycharm": {
     "name": "#%% md\n"
    }
   },
   "source": [
    "# test EMD"
   ]
  },
  {
   "cell_type": "code",
   "execution_count": null,
   "metadata": {
    "pycharm": {
     "name": "#%%\n"
    }
   },
   "outputs": [],
   "source": [
    "rng = np.random.RandomState(42)\n",
    "n_epochs, n_channels, n_times = 2, 2,250\n",
    "X = rng.randn(n_epochs, n_channels, n_times)\n",
    "feat1=Feature(X,sfreq=250,selected_funcs={'decorr_time'})\n",
    "print(feat1.features.shape)\n",
    "# feat2=Feature(X,sfreq=250,selected_funcs={'pow_freq_bands'})juju\n",
    "# print(feat2.features.shape)\n",
    "select_para=dict({'EMD__EMD_times': 1,\n",
    "                  'EMD__EMD_params': 6})\n",
    "feat=Feature(X,sfreq=250,selected_funcs={'EMD'},funcs_params=select_para)\n",
    "print(feat.features.shape)"
   ]
  },
  {
   "cell_type": "markdown",
   "metadata": {
    "pycharm": {
     "name": "#%% md\n"
    }
   },
   "source": [
    "# test bicoherence"
   ]
  },
  {
   "cell_type": "code",
   "execution_count": null,
   "metadata": {
    "pycharm": {
     "name": "#%%\n"
    }
   },
   "outputs": [],
   "source": [
    "#test hos\n",
    "'''\n",
    "bicoherence input  Multidimensional  vector [n_y,n_d] \n",
    "bicoherence input  one-dimensional   vector [n_y,1]  or [1，n_y] \n",
    "'''\n",
    "import os,sys\n",
    "from scuteegfe.HOSA.conventional.bicoherence import bicoherence\n",
    "import scipy.io as scio\n",
    "load_mat = scio.loadmat('qpc.mat')['zmat']\n",
    "y=load_mat[0:4,:]\n",
    "y1=np.transpose(load_mat[0:4,:])\n",
    "y2=load_mat[0,:][np.newaxis,:]\n",
    "y3=np.transpose(load_mat[1,:][np.newaxis,:])\n",
    "bicoherence(y, nfft=None, wind=None, nsamp=None, overlap=None)\n",
    "bicoherence(y1, nfft=None, wind=None, nsamp=None, overlap=None)\n",
    "bicoherence(y2, nfft=None, wind=None, nsamp=None, overlap=None)\n",
    "bicoherence(y3, nfft=None, wind=None, nsamp=None, overlap=None)"
   ]
  },
  {
   "cell_type": "markdown",
   "metadata": {},
   "source": [
    "# test wavelet_entropy"
   ]
  },
  {
   "cell_type": "code",
   "execution_count": 3,
   "metadata": {
    "pycharm": {
     "name": "#%%\n"
    }
   },
   "outputs": [
    {
     "name": "stdout",
     "output_type": "stream",
     "text": [
      "(2, 2, 7)\n"
     ]
    }
   ],
   "source": [
    "rng = np.random.RandomState(42)\n",
    "n_epochs, n_channels, n_times = 2,2,2000\n",
    "X = rng.randn(n_epochs, n_channels, n_times)\n",
    "feat=Feature(X,sfreq=250,selected_funcs={'wavelet_entropy'})\n",
    "print(feat.features.shape)"
   ]
  },
  {
   "cell_type": "markdown",
   "metadata": {},
   "source": [
    "# test wavelet_entropy unaverage"
   ]
  },
  {
   "cell_type": "code",
   "execution_count": 10,
   "metadata": {
    "code_folding": [
     16
    ]
   },
   "outputs": [
    {
     "name": "stdout",
     "output_type": "stream",
     "text": [
      "(4, 7, 10)\n",
      "(4, 7, 10)\n",
      "(4, 7, 10)\n",
      "(4, 7, 10)\n",
      "(280,)\n"
     ]
    }
   ],
   "source": [
    "import pywt\n",
    "def imp_extract(section_data,Fs, time_sec,wavelet_name):\n",
    "    f = np.arange(1, 129, 0.2)\n",
    "    [wt, f1] = pywt.cwt(section_data, f, wavelet_name, 1 / Fs)  # 'mexh'\n",
    "    cwt_re = np.sum(abs(wt), axis=1) * 2 / time_sec;  #\n",
    "    return cwt_re,f1\n",
    "def band_DE(Pxx, f, Par_ratios=1, band=None):\n",
    "    \"\"\"\n",
    "    Feature extraction of fixed frequency band\n",
    "    :param Pxx:  frequency band parameter\n",
    "    :param f:    frequency range\n",
    "    :param band: selected frequency band\n",
    "    :return:     固定频带的特征\n",
    "    \"\"\"\n",
    "    fea_num=int(band.shape[0])\n",
    "    psd = np.empty((fea_num))\n",
    "    for i in range(fea_num):\n",
    "        idx = np.where((f >= band[i, 0]) & (f <= band[i, 1]))\n",
    "        psd[i] = np.sum(np.multiply(Pxx[idx], Pxx[idx]))\n",
    "        if Par_ratios == 1:\n",
    "            san_D = np.hstack((psd, psd[2] / psd[1], psd[3] / psd[1]))\n",
    "        else:\n",
    "            san_D = psd\n",
    "    return san_D\n",
    "rng = np.random.RandomState(42)\n",
    "n_epochs, n_channels, n_times = 2, 4,2500\n",
    "data= rng.randn(n_channels, n_times)\n",
    "sfreq=250\n",
    "m_times=1\n",
    "m_Par_ratios=1\n",
    "m_entropy=True               \n",
    "wavelet_name= 'gaus1'\n",
    "Average=False\n",
    "band=np.array([[2, 3.8], [4, 7], [8, 13], [14, 30], [31, 48]])\n",
    "time_sec = int(m_times * sfreq)\n",
    "fea_num = int(band.shape[0] + m_Par_ratios * 2)\n",
    "n_channel, n_times = data.shape\n",
    "section_num = int(np.ceil((n_times/ time_sec)))\n",
    "if Average:\n",
    "   de = np.empty((int(n_channel),fea_num))\n",
    "else:\n",
    "   de = np.empty((int(n_channel),fea_num,section_num))\n",
    "\n",
    "for channel in range(n_channel):\n",
    "    # initialization\n",
    "    section_de = np.empty((fea_num, section_num))\n",
    "    # for one second calculate cwt\n",
    "    for section in range(section_num):\n",
    "        section_data = data[channel, section * time_sec:(section + 1) * time_sec]\n",
    "        spec, f = imp_extract(section_data=section_data, Fs=sfreq, time_sec=time_sec,wavelet_name=wavelet_name)\n",
    "        section_de[:, section] = band_DE(spec, f, Par_ratios=m_Par_ratios, band=band)\n",
    "    if Average:\n",
    "      de_mean = np.sum(section_de, axis=1);\n",
    "    else:\n",
    "      de_mean = section_de; \n",
    "    if m_entropy:\n",
    "        de_mean = np.multiply(de_mean, np.log(de_mean));\n",
    "    de[channel,:] = de_mean\n",
    "    print(de.shape)\n",
    "feature = de.reshape(-1)\n",
    "print(feature.shape)"
   ]
  },
  {
   "cell_type": "code",
   "execution_count": null,
   "metadata": {},
   "outputs": [],
   "source": []
  }
 ],
 "metadata": {
  "kernelspec": {
   "display_name": "py3.9",
   "language": "python",
   "name": "py3.9"
  },
  "language_info": {
   "codemirror_mode": {
    "name": "ipython",
    "version": 3
   },
   "file_extension": ".py",
   "mimetype": "text/x-python",
   "name": "python",
   "nbconvert_exporter": "python",
   "pygments_lexer": "ipython3",
   "version": "3.9.12"
  },
  "toc": {
   "base_numbering": 1,
   "nav_menu": {},
   "number_sections": true,
   "sideBar": false,
   "skip_h1_title": false,
   "title_cell": "Table of Contents",
   "title_sidebar": "Contents",
   "toc_cell": false,
   "toc_position": {
    "height": "795px",
    "left": "1332px",
    "top": "52px",
    "width": "205.391px"
   },
   "toc_section_display": true,
   "toc_window_display": true
  }
 },
 "nbformat": 4,
 "nbformat_minor": 1
}
