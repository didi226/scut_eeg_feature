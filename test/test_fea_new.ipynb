{
 "cells": [
  {
   "cell_type": "code",
   "execution_count": 14,
   "metadata": {
    "pycharm": {
     "is_executing": true,
     "name": "#%%\n"
    }
   },
   "outputs": [
    {
     "name": "stdout",
     "output_type": "stream",
     "text": [
      "The autoreload extension is already loaded. To reload it, use:\n",
      "  %reload_ext autoreload\n",
      "(2, 2, 1)\n",
      "(2, 2, 10500)\n"
     ]
    }
   ],
   "source": [
    "%load_ext autoreload\n",
    "%reload_ext autoreload\n",
    "#autoreload 2：装入所有 %aimport 不包含的模块。\n",
    "%autoreload 2\n",
    "#%matplotpy\n",
    "import numpy as np\n",
    "from scuteegfe.mne_features_wrapper.feature_wrapper import Feature\n",
    "rng = np.random.RandomState(42)\n",
    "n_epochs, n_channels, n_times = 2, 2,1800 \n",
    "X = rng.randn(n_epochs, n_channels, n_times)\n",
    "feat1=Feature(X,sfreq=250,selected_funcs={'decorr_time'})\n",
    "print(feat1.features.shape)\n",
    "# feat2=Feature(X,sfreq=250,selected_funcs={'pow_freq_bands'})juju\n",
    "# print(feat2.features.shape)\n",
    "select_para=dict({'EMD__EMD_times': 1,\n",
    "                  'EMD__EMD_params': 6})\n",
    "feat=Feature(X,sfreq=250,selected_funcs={'EMD'},funcs_params=select_para)"
   ]
  },
  {
   "cell_type": "code",
   "execution_count": 2,
   "metadata": {
    "pycharm": {
     "name": "#%%\n"
    }
   },
   "outputs": [],
   "source": [
    "# test EMD"
   ]
  },
  {
   "cell_type": "code",
   "execution_count": null,
   "outputs": [],
   "source": [
    "#test hos\n",
    "import os,sys\n",
    "import numpy as np\n",
    "from scuteegfe.HOSA.conventional.bicoherence import bicoherence\n",
    "import scipy.io as scio\n",
    "load_mat = scio.loadmat('qpc.mat')['zmat']\n",
    "y=load_mat[0,:][np.newaxis,:]\n",
    "bicoherence(y, nfft=None, wind=None, nsamp=None, overlap=None)"
   ],
   "metadata": {
    "collapsed": false,
    "pycharm": {
     "name": "#%%\n"
    }
   }
  }
 ],
 "metadata": {
  "kernelspec": {
   "display_name": "py3.9",
   "language": "python",
   "name": "py3.9"
  },
  "language_info": {
   "codemirror_mode": {
    "name": "ipython",
    "version": 3
   },
   "file_extension": ".py",
   "mimetype": "text/x-python",
   "name": "python",
   "nbconvert_exporter": "python",
   "pygments_lexer": "ipython3",
   "version": "3.9.12"
  },
  "toc": {
   "base_numbering": 1,
   "nav_menu": {},
   "number_sections": true,
   "sideBar": true,
   "skip_h1_title": false,
   "title_cell": "Table of Contents",
   "title_sidebar": "Contents",
   "toc_cell": false,
   "toc_position": {},
   "toc_section_display": true,
   "toc_window_display": false
  }
 },
 "nbformat": 4,
 "nbformat_minor": 1
}