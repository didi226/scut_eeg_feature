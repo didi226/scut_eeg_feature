{
 "cells": [
  {
   "cell_type": "markdown",
   "metadata": {},
   "source": [
    "# import"
   ]
  },
  {
   "cell_type": "code",
   "execution_count": 2,
   "metadata": {
    "pycharm": {
     "name": "#%%\n"
    }
   },
   "outputs": [],
   "source": [
    "%load_ext autoreload\n",
    "%reload_ext autoreload\n",
    "#autoreload 2：装入所有 %aimport 不包含的模块。\n",
    "%autoreload 2\n",
    "#%matplotpy\n",
    "import numpy as np\n",
    "from scuteegfe.mne_features_wrapper.feature_wrapper import Feature"
   ]
  },
  {
   "cell_type": "markdown",
   "metadata": {
    "pycharm": {
     "name": "#%% md\n"
    }
   },
   "source": [
    "# test EMD"
   ]
  },
  {
   "cell_type": "code",
   "execution_count": null,
   "metadata": {
    "pycharm": {
     "name": "#%%\n"
    }
   },
   "outputs": [],
   "source": [
    "rng = np.random.RandomState(42)\n",
    "n_epochs, n_channels, n_times = 2, 2,250\n",
    "X = rng.randn(n_epochs, n_channels, n_times)\n",
    "feat1=Feature(X,sfreq=250,selected_funcs={'decorr_time'})\n",
    "print(feat1.features.shape)\n",
    "# feat2=Feature(X,sfreq=250,selected_funcs={'pow_freq_bands'})juju\n",
    "# print(feat2.features.shape)\n",
    "select_para=dict({'EMD__EMD_times': 1,\n",
    "                  'EMD__EMD_params': 6})\n",
    "feat=Feature(X,sfreq=250,selected_funcs={'EMD'},funcs_params=select_para)\n",
    "print(feat.features.shape)"
   ]
  },
  {
   "cell_type": "markdown",
   "metadata": {
    "pycharm": {
     "name": "#%% md\n"
    }
   },
   "source": [
    "# test bicoherence"
   ]
  },
  {
   "cell_type": "code",
   "execution_count": null,
   "metadata": {
    "pycharm": {
     "name": "#%%\n"
    }
   },
   "outputs": [],
   "source": [
    "#test hos\n",
    "'''\n",
    "bicoherence input  Multidimensional  vector [n_y,n_d] \n",
    "bicoherence input  one-dimensional   vector [n_y,1]  or [1，n_y] \n",
    "'''\n",
    "import os,sys\n",
    "from scuteegfe.HOSA.conventional.bicoherence import bicoherence\n",
    "import scipy.io as scio\n",
    "load_mat = scio.loadmat('qpc.mat')['zmat']\n",
    "y=load_mat[0:4,:]\n",
    "y1=np.transpose(load_mat[0:4,:])\n",
    "y2=load_mat[0,:][np.newaxis,:]\n",
    "y3=np.transpose(load_mat[1,:][np.newaxis,:])\n",
    "bicoherence(y, nfft=None, wind=None, nsamp=None, overlap=None)\n",
    "bicoherence(y1, nfft=None, wind=None, nsamp=None, overlap=None)\n",
    "bicoherence(y2, nfft=None, wind=None, nsamp=None, overlap=None)\n",
    "bicoherence(y3, nfft=None, wind=None, nsamp=None, overlap=None)"
   ]
  },
  {
   "cell_type": "markdown",
   "metadata": {},
   "source": [
    "# test wavelet_entropy"
   ]
  },
  {
   "cell_type": "code",
   "execution_count": 3,
   "metadata": {},
   "outputs": [
    {
     "name": "stdout",
     "output_type": "stream",
     "text": [
      "(2, 2, 7)\n"
     ]
    }
   ],
   "source": [
    "rng = np.random.RandomState(42)\n",
    "n_epochs, n_channels, n_times = 2,2,2000\n",
    "X = rng.randn(n_epochs, n_channels, n_times)\n",
    "feat=Feature(X,sfreq=250,selected_funcs={'wavelet_entropy'})\n",
    "print(feat.features.shape)"
   ]
  },
  {
   "cell_type": "code",
   "execution_count": null,
   "metadata": {},
   "outputs": [],
   "source": []
  }
 ],
 "metadata": {
  "kernelspec": {
   "display_name": "py3.9",
   "language": "python",
   "name": "py3.9"
  },
  "language_info": {
   "codemirror_mode": {
    "name": "ipython",
    "version": 3
   },
   "file_extension": ".py",
   "mimetype": "text/x-python",
   "name": "python",
   "nbconvert_exporter": "python",
   "pygments_lexer": "ipython3",
   "version": "3.9.12"
  },
  "toc": {
   "base_numbering": 1,
   "nav_menu": {},
   "number_sections": true,
   "sideBar": true,
   "skip_h1_title": false,
   "title_cell": "Table of Contents",
   "title_sidebar": "Contents",
   "toc_cell": false,
   "toc_position": {
    "height": "calc(100% - 180px)",
    "left": "10px",
    "top": "150px",
    "width": "205.391px"
   },
   "toc_section_display": true,
   "toc_window_display": true
  }
 },
 "nbformat": 4,
 "nbformat_minor": 1
}
