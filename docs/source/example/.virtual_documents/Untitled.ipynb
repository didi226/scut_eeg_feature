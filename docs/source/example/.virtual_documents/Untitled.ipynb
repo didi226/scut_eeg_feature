








import warnings
warnings.filterwarnings('ignore')
from scuteegfe import Feature
import numpy as np
import matplotlib.pyplot as plt
import mne
from nilearn import plotting
import matplotlib.cm as cm
from mne_connectivity.viz import plot_connectivity_circle
import seaborn as sns


data = np.random.rand(2, 5, 1000)


n_epcoh, n_channels, n_samples = data.shape
print(f"data.shape: {n_epcoh} epcoh X {n_channels} channels X {n_samples} samples")








data = np.random.rand(2, 5, 1000)
fea1 = Feature(data = data, sfreq=250, selected_funcs = ['pac_connectivity_mod'],
               funcs_params={
                             "pac_connectivity_mod__sfreq": 250,
                             "pac_connectivity_mod__method": 'tort',
                             "pac_connectivity_mod__band": np.array([[4, 8], [30, 45]]),
                             "pac_connectivity_mod__mode": 'self'
                             } )


n_epcoh, n_channels, pac_value = fea1.features.shape
print(f"data.shape: {n_epcoh} epcoh X {n_channels} channels X {pac_value} pac_value")








data = np.random.rand(2, 5, 1000)
fea2 = Feature(data = data, sfreq=250, selected_funcs=['pac_connectivity_mod'],
               funcs_params={
                             "pac_connectivity_mod__sfreq": 250,
                             "pac_connectivity_mod__method": 'tort',
                             "pac_connectivity_mod__band": np.array([[4, 8], [30, 45]]),
                             "pac_connectivity_mod__mode": 'non-self'
                             } )


n_epcoh, n_channels, n_channels = fea2.features.shape
print(f"data.shape: {n_epcoh} epcoh X {n_channels} channels X {n_channels} n_channels")





sns.heatmap(fea2.features[0])





fig, ax = plt.subplots(figsize=(8, 8),  facecolor="Black", subplot_kw=dict(polar=True))
plot_connectivity_circle(fea2.features[0], [f'Chan {i+1}' for i in range(n_channels)],
                         title=f'PAC connectivity',
                    colormap="hot",  colorbar_size=0.35, colorbar_pos=(0, 0.5), ax=ax)
