





import warnings
warnings.filterwarnings('ignore')
from scuteegfe import Feature
import pandas as pd
import numpy as np
import matplotlib.pyplot as plt
import mne








sfreq = 256  
t = np.arange(0, 10, 1/sfreq)  
delta = np.sin(2 * np.pi * 2 * t)  # Delta (1-4 Hz)
theta = np.sin(2 * np.pi * 6 * t)  # Theta (4-8 Hz)
alpha = np.sin(2 * np.pi * 10 * t)  # Alpha (8-13 Hz)
beta = np.sin(2 * np.pi * 20 * t)  # Beta (13-30 Hz)
gamma = np.sin(2 * np.pi * 40 * t)  # Gamma (30-100 Hz
data = np.vstack([delta, theta, alpha, beta, gamma])
print(data.shape)





info = mne.create_info(ch_names=['delta', 'theta', 'alpha', 'beta', 'gamma'], sfreq=sfreq, ch_types='eeg')
raw = mne.io.RawArray(data, info)





# plot time series
raw.plot(n_channels=5, scalings='auto', title='Time Domain Signals', show=False)


# plot psd
fig = raw.plot_psd(fmax=50, n_fft=2048, show=False)
fig.suptitle('Power Spectral Density (PSD)')
plt.show()








print(data[None,:].shape)





fea = Feature(data[None,:], sfreq=sfreq, selected_funcs=['pow_freq_bands'],
               funcs_params={"pow_freq_bands__freq_bands":np.array([[1,4],[4,8],[8,13],[18,22],[30,50]]),
                            "pow_freq_bands__normalize": False})





print(fea)


n_epochs, n_channels, n_features = fea.features.shape
print(n_epochs, n_channels, n_features)


df = pd.DataFrame(np.squeeze(fea.features), columns=fea.feature_names)
df.index = [f'Channel {i+1}' for i in range(n_channels)]
df
