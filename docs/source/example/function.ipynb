{
 "cells": [
  {
   "cell_type": "markdown",
   "id": "62ab77e4-efd1-4e0b-b009-bedfff66e135",
   "metadata": {},
   "source": [
    "# function example "
   ]
  },
  {
   "cell_type": "markdown",
   "id": "ca75f0b3-bda0-41e8-81f9-9a9e96771446",
   "metadata": {},
   "source": [
    "## Import related packages"
   ]
  },
  {
   "cell_type": "code",
   "execution_count": 6,
   "id": "6c904eda-b22f-4a01-8e82-83dab654044f",
   "metadata": {},
   "outputs": [],
   "source": [
    "import warnings\n",
    "warnings.filterwarnings('ignore')\n",
    "from scuteegfe import Feature\n",
    "import pandas as pd\n",
    "import numpy as np\n",
    "import matplotlib.pyplot as plt\n",
    "import mne\n",
    "from mne.datasets import eegbci\n",
    "from mne import Epochs, pick_types, events_from_annotations\n",
    "from mne.channels import make_standard_montage\n",
    "from mne.io import concatenate_raws, read_raw_edf\n",
    "from nilearn import plotting\n",
    "import matplotlib.cm as cm\n",
    "from mne_connectivity.viz import plot_connectivity_circle"
   ]
  },
  {
   "cell_type": "markdown",
   "id": "0793f1f3-f5ff-42c8-9525-8d86d4bd4757",
   "metadata": {},
   "source": [
    "## get motor image data"
   ]
  },
  {
   "cell_type": "code",
   "execution_count": 7,
   "id": "1b997335-5a86-4fd1-9104-13acc9a83fe0",
   "metadata": {},
   "outputs": [],
   "source": [
    "def get_data_example_motor_image():\n",
    "    tmin, tmax = -1., 4.\n",
    "    event_id = dict(hands=2, feet=3)\n",
    "    subject = 1\n",
    "    runs = [6, 10, 14]  # motor imagery: hands vs feet\n",
    "    raw_fnames = eegbci.load_data(subject, runs)\n",
    "    raw = concatenate_raws([read_raw_edf(f, preload=True) for f in raw_fnames])\n",
    "    eegbci.standardize(raw)  # set channel names\n",
    "    montage = make_standard_montage('standard_1005')\n",
    "    raw.set_montage(montage)\n",
    "\n",
    "    # Apply band-pass filter\n",
    "    raw.filter(7., 30., fir_design='firwin', skip_by_annotation='edge')\n",
    "\n",
    "    events, _ = events_from_annotations(raw, event_id=dict(T1=2, T2=3))\n",
    "\n",
    "    picks = pick_types(raw.info, meg=False, eeg=True, stim=False, eog=False,\n",
    "                       exclude='bads')\n",
    "\n",
    "    # Read epochs (train will be done only between 1 and 2s)\n",
    "    # Testing will be done with a running classifier\n",
    "    epochs = Epochs(raw, events, event_id, tmin, tmax, proj=True, picks=picks,\n",
    "                    baseline=None, preload=True)\n",
    "    epochs_train = epochs.copy().crop(tmin=1., tmax=2.)\n",
    "    labels = epochs.events[:, -1] - 2\n",
    "    data = epochs.get_data()\n",
    "    print(data.shape)\n",
    "    return data, labels"
   ]
  },
  {
   "cell_type": "code",
   "execution_count": 8,
   "id": "41dad036-4983-4abc-9b99-8f87c9cc10ff",
   "metadata": {},
   "outputs": [
    {
     "name": "stdout",
     "output_type": "stream",
     "text": [
      "Extracting EDF parameters from C:\\Users\\15956\\mne_data\\MNE-eegbci-data\\files\\eegmmidb\\1.0.0\\S001\\S001R06.edf...\n",
      "EDF file detected\n",
      "Setting channel info structure...\n",
      "Creating raw.info structure...\n",
      "Reading 0 ... 19999  =      0.000 ...   124.994 secs...\n",
      "Extracting EDF parameters from C:\\Users\\15956\\mne_data\\MNE-eegbci-data\\files\\eegmmidb\\1.0.0\\S001\\S001R10.edf...\n",
      "EDF file detected\n",
      "Setting channel info structure...\n",
      "Creating raw.info structure...\n",
      "Reading 0 ... 19999  =      0.000 ...   124.994 secs...\n",
      "Extracting EDF parameters from C:\\Users\\15956\\mne_data\\MNE-eegbci-data\\files\\eegmmidb\\1.0.0\\S001\\S001R14.edf...\n",
      "EDF file detected\n",
      "Setting channel info structure...\n",
      "Creating raw.info structure...\n",
      "Reading 0 ... 19999  =      0.000 ...   124.994 secs...\n",
      "Filtering raw data in 3 contiguous segments\n",
      "Setting up band-pass filter from 7 - 30 Hz\n",
      "\n",
      "FIR filter parameters\n",
      "---------------------\n",
      "Designing a one-pass, zero-phase, non-causal bandpass filter:\n",
      "- Windowed time-domain design (firwin) method\n",
      "- Hamming window with 0.0194 passband ripple and 53 dB stopband attenuation\n",
      "- Lower passband edge: 7.00\n",
      "- Lower transition bandwidth: 2.00 Hz (-6 dB cutoff frequency: 6.00 Hz)\n",
      "- Upper passband edge: 30.00 Hz\n",
      "- Upper transition bandwidth: 7.50 Hz (-6 dB cutoff frequency: 33.75 Hz)\n",
      "- Filter length: 265 samples (1.656 s)\n",
      "\n"
     ]
    },
    {
     "name": "stderr",
     "output_type": "stream",
     "text": [
      "[Parallel(n_jobs=1)]: Using backend SequentialBackend with 1 concurrent workers.\n",
      "[Parallel(n_jobs=1)]: Done   1 out of   1 | elapsed:    0.0s remaining:    0.0s\n",
      "[Parallel(n_jobs=1)]: Done   2 out of   2 | elapsed:    0.0s remaining:    0.0s\n",
      "[Parallel(n_jobs=1)]: Done   3 out of   3 | elapsed:    0.0s remaining:    0.0s\n",
      "[Parallel(n_jobs=1)]: Done   4 out of   4 | elapsed:    0.0s remaining:    0.0s\n",
      "[Parallel(n_jobs=1)]: Done  64 out of  64 | elapsed:    0.0s finished\n"
     ]
    },
    {
     "name": "stdout",
     "output_type": "stream",
     "text": [
      "Used Annotations descriptions: ['T1', 'T2']\n",
      "Not setting metadata\n",
      "45 matching events found\n",
      "No baseline correction applied\n",
      "0 projection items activated\n",
      "Using data from preloaded Raw for 45 events and 801 original time points ...\n",
      "0 bad epochs dropped\n",
      "(45, 64, 801)\n",
      "(45, 7, 801)\n"
     ]
    }
   ],
   "source": [
    "data, _ = get_data_example_motor_image()\n",
    "# 7-channel data are used.\n",
    "data = data[:,:7,:]\n",
    "print(data.shape)"
   ]
  },
  {
   "cell_type": "markdown",
   "id": "1009812f-0898-4138-9260-fb6d9af610f1",
   "metadata": {},
   "source": [
    "## calculate feature \n",
    "example for Tsallis_Entropy, Renyi_Entropy and Shannon_entropy \n",
    "feature in scuteegfe \n",
    "!!!!!!!   if sfreq is needed, it should also be input by  funcs_params"
   ]
  },
  {
   "cell_type": "markdown",
   "id": "482961b1-8d15-415d-aaa3-76ea2e64c915",
   "metadata": {},
   "source": [
    "### Tsallis_Entropy, Renyi_Entropy and Shannon_entropy "
   ]
  },
  {
   "cell_type": "code",
   "execution_count": 9,
   "id": "731655d7-c8fa-40da-8fbb-e8fff981cab4",
   "metadata": {},
   "outputs": [],
   "source": [
    "fea = Feature(data, sfreq=160, selected_funcs=['Renyi_Entropy', 'Tsallis_Entropy', 'Shannon_entropy'], \n",
    "              funcs_params={\"Renyi_Entropy__sfreq\":160, \"Tsallis_Entropy__sfreq\":160,\"Shannon_entropy__sfreq\":160})"
   ]
  },
  {
   "cell_type": "code",
   "execution_count": 10,
   "id": "52927d76-3e10-4bf6-a8b1-7c55441cae56",
   "metadata": {},
   "outputs": [
    {
     "name": "stdout",
     "output_type": "stream",
     "text": [
      "n_epochs:45,n_channels:7,n_features:15\n"
     ]
    }
   ],
   "source": [
    "n_epochs, n_channels, n_features = fea.features.shape\n",
    "print(f'n_epochs:{n_epochs},n_channels:{n_channels},n_features:{n_features}')"
   ]
  },
  {
   "cell_type": "code",
   "execution_count": 11,
   "id": "1ccbb792-d557-4355-a9bd-ce5f3bd95460",
   "metadata": {},
   "outputs": [
    {
     "data": {
      "text/html": [
       "<div>\n",
       "<style scoped>\n",
       "    .dataframe tbody tr th:only-of-type {\n",
       "        vertical-align: middle;\n",
       "    }\n",
       "\n",
       "    .dataframe tbody tr th {\n",
       "        vertical-align: top;\n",
       "    }\n",
       "\n",
       "    .dataframe thead th {\n",
       "        text-align: right;\n",
       "    }\n",
       "</style>\n",
       "<table border=\"1\" class=\"dataframe\">\n",
       "  <thead>\n",
       "    <tr style=\"text-align: right;\">\n",
       "      <th></th>\n",
       "      <th>Renyi_Entropy0</th>\n",
       "      <th>Renyi_Entropy1</th>\n",
       "      <th>Renyi_Entropy2</th>\n",
       "      <th>Renyi_Entropy3</th>\n",
       "      <th>Renyi_Entropy4</th>\n",
       "      <th>Shannon_entropy0</th>\n",
       "      <th>Shannon_entropy1</th>\n",
       "      <th>Shannon_entropy2</th>\n",
       "      <th>Shannon_entropy3</th>\n",
       "      <th>Shannon_entropy4</th>\n",
       "      <th>Tsallis_Entropy0</th>\n",
       "      <th>Tsallis_Entropy1</th>\n",
       "      <th>Tsallis_Entropy2</th>\n",
       "      <th>Tsallis_Entropy3</th>\n",
       "      <th>Tsallis_Entropy4</th>\n",
       "    </tr>\n",
       "  </thead>\n",
       "  <tbody>\n",
       "    <tr>\n",
       "      <th>Chan 1</th>\n",
       "      <td>7.321928</td>\n",
       "      <td>7.321928</td>\n",
       "      <td>7.321928</td>\n",
       "      <td>7.321928</td>\n",
       "      <td>7.321928</td>\n",
       "      <td>7.321928</td>\n",
       "      <td>7.321928</td>\n",
       "      <td>7.321928</td>\n",
       "      <td>7.321928</td>\n",
       "      <td>7.321928</td>\n",
       "      <td>0.99375</td>\n",
       "      <td>0.99375</td>\n",
       "      <td>0.99375</td>\n",
       "      <td>0.99375</td>\n",
       "      <td>0.99375</td>\n",
       "    </tr>\n",
       "    <tr>\n",
       "      <th>Chan 2</th>\n",
       "      <td>7.321928</td>\n",
       "      <td>7.321928</td>\n",
       "      <td>7.321928</td>\n",
       "      <td>7.321928</td>\n",
       "      <td>7.321928</td>\n",
       "      <td>7.321928</td>\n",
       "      <td>7.321928</td>\n",
       "      <td>7.321928</td>\n",
       "      <td>7.321928</td>\n",
       "      <td>7.321928</td>\n",
       "      <td>0.99375</td>\n",
       "      <td>0.99375</td>\n",
       "      <td>0.99375</td>\n",
       "      <td>0.99375</td>\n",
       "      <td>0.99375</td>\n",
       "    </tr>\n",
       "    <tr>\n",
       "      <th>Chan 3</th>\n",
       "      <td>7.321928</td>\n",
       "      <td>7.321928</td>\n",
       "      <td>7.321928</td>\n",
       "      <td>7.321928</td>\n",
       "      <td>7.321928</td>\n",
       "      <td>7.321928</td>\n",
       "      <td>7.321928</td>\n",
       "      <td>7.321928</td>\n",
       "      <td>7.321928</td>\n",
       "      <td>7.321928</td>\n",
       "      <td>0.99375</td>\n",
       "      <td>0.99375</td>\n",
       "      <td>0.99375</td>\n",
       "      <td>0.99375</td>\n",
       "      <td>0.99375</td>\n",
       "    </tr>\n",
       "    <tr>\n",
       "      <th>Chan 4</th>\n",
       "      <td>7.321928</td>\n",
       "      <td>7.321928</td>\n",
       "      <td>7.321928</td>\n",
       "      <td>7.321928</td>\n",
       "      <td>7.321928</td>\n",
       "      <td>7.321928</td>\n",
       "      <td>7.321928</td>\n",
       "      <td>7.321928</td>\n",
       "      <td>7.321928</td>\n",
       "      <td>7.321928</td>\n",
       "      <td>0.99375</td>\n",
       "      <td>0.99375</td>\n",
       "      <td>0.99375</td>\n",
       "      <td>0.99375</td>\n",
       "      <td>0.99375</td>\n",
       "    </tr>\n",
       "    <tr>\n",
       "      <th>Chan 5</th>\n",
       "      <td>7.321928</td>\n",
       "      <td>7.321928</td>\n",
       "      <td>7.321928</td>\n",
       "      <td>7.321928</td>\n",
       "      <td>7.321928</td>\n",
       "      <td>7.321928</td>\n",
       "      <td>7.321928</td>\n",
       "      <td>7.321928</td>\n",
       "      <td>7.321928</td>\n",
       "      <td>7.321928</td>\n",
       "      <td>0.99375</td>\n",
       "      <td>0.99375</td>\n",
       "      <td>0.99375</td>\n",
       "      <td>0.99375</td>\n",
       "      <td>0.99375</td>\n",
       "    </tr>\n",
       "    <tr>\n",
       "      <th>Chan 6</th>\n",
       "      <td>7.321928</td>\n",
       "      <td>7.321928</td>\n",
       "      <td>7.321928</td>\n",
       "      <td>7.321928</td>\n",
       "      <td>7.321928</td>\n",
       "      <td>7.321928</td>\n",
       "      <td>7.321928</td>\n",
       "      <td>7.321928</td>\n",
       "      <td>7.321928</td>\n",
       "      <td>7.321928</td>\n",
       "      <td>0.99375</td>\n",
       "      <td>0.99375</td>\n",
       "      <td>0.99375</td>\n",
       "      <td>0.99375</td>\n",
       "      <td>0.99375</td>\n",
       "    </tr>\n",
       "    <tr>\n",
       "      <th>Chan 7</th>\n",
       "      <td>7.321928</td>\n",
       "      <td>7.321928</td>\n",
       "      <td>7.321928</td>\n",
       "      <td>7.321928</td>\n",
       "      <td>7.321928</td>\n",
       "      <td>7.321928</td>\n",
       "      <td>7.321928</td>\n",
       "      <td>7.321928</td>\n",
       "      <td>7.321928</td>\n",
       "      <td>7.321928</td>\n",
       "      <td>0.99375</td>\n",
       "      <td>0.99375</td>\n",
       "      <td>0.99375</td>\n",
       "      <td>0.99375</td>\n",
       "      <td>0.99375</td>\n",
       "    </tr>\n",
       "  </tbody>\n",
       "</table>\n",
       "</div>"
      ],
      "text/plain": [
       "        Renyi_Entropy0  Renyi_Entropy1  Renyi_Entropy2  Renyi_Entropy3  \\\n",
       "Chan 1        7.321928        7.321928        7.321928        7.321928   \n",
       "Chan 2        7.321928        7.321928        7.321928        7.321928   \n",
       "Chan 3        7.321928        7.321928        7.321928        7.321928   \n",
       "Chan 4        7.321928        7.321928        7.321928        7.321928   \n",
       "Chan 5        7.321928        7.321928        7.321928        7.321928   \n",
       "Chan 6        7.321928        7.321928        7.321928        7.321928   \n",
       "Chan 7        7.321928        7.321928        7.321928        7.321928   \n",
       "\n",
       "        Renyi_Entropy4  Shannon_entropy0  Shannon_entropy1  Shannon_entropy2  \\\n",
       "Chan 1        7.321928          7.321928          7.321928          7.321928   \n",
       "Chan 2        7.321928          7.321928          7.321928          7.321928   \n",
       "Chan 3        7.321928          7.321928          7.321928          7.321928   \n",
       "Chan 4        7.321928          7.321928          7.321928          7.321928   \n",
       "Chan 5        7.321928          7.321928          7.321928          7.321928   \n",
       "Chan 6        7.321928          7.321928          7.321928          7.321928   \n",
       "Chan 7        7.321928          7.321928          7.321928          7.321928   \n",
       "\n",
       "        Shannon_entropy3  Shannon_entropy4  Tsallis_Entropy0  \\\n",
       "Chan 1          7.321928          7.321928           0.99375   \n",
       "Chan 2          7.321928          7.321928           0.99375   \n",
       "Chan 3          7.321928          7.321928           0.99375   \n",
       "Chan 4          7.321928          7.321928           0.99375   \n",
       "Chan 5          7.321928          7.321928           0.99375   \n",
       "Chan 6          7.321928          7.321928           0.99375   \n",
       "Chan 7          7.321928          7.321928           0.99375   \n",
       "\n",
       "        Tsallis_Entropy1  Tsallis_Entropy2  Tsallis_Entropy3  Tsallis_Entropy4  \n",
       "Chan 1           0.99375           0.99375           0.99375           0.99375  \n",
       "Chan 2           0.99375           0.99375           0.99375           0.99375  \n",
       "Chan 3           0.99375           0.99375           0.99375           0.99375  \n",
       "Chan 4           0.99375           0.99375           0.99375           0.99375  \n",
       "Chan 5           0.99375           0.99375           0.99375           0.99375  \n",
       "Chan 6           0.99375           0.99375           0.99375           0.99375  \n",
       "Chan 7           0.99375           0.99375           0.99375           0.99375  "
      ]
     },
     "execution_count": 11,
     "metadata": {},
     "output_type": "execute_result"
    }
   ],
   "source": [
    "df = pd.DataFrame(fea.features[0,:,:], columns=fea.feature_names)\n",
    "df.index = [f'Chan {i+1}' for i in range(n_channels)]\n",
    "df"
   ]
  },
  {
   "cell_type": "markdown",
   "id": "d08522df-add9-41ac-99fd-a89acfd68503",
   "metadata": {},
   "source": [
    "### fuzzy_entropy"
   ]
  },
  {
   "cell_type": "code",
   "execution_count": null,
   "id": "87005690-e064-47dd-8a3f-332f6f24477f",
   "metadata": {},
   "outputs": [],
   "source": [
    "fea_fuzzy_entropy = Feature(data, sfreq = 160, selected_funcs=['fuzzy_entropy'], funcs_params={\"fuzzy_entropy__m\":3})\n",
    "n_epochs, n_channels, n_features = fea_fuzzy_entropy.features.shape\n",
    "print(f'n_epochs:{n_epochs},n_channels:{n_channels},n_features:{n_features}')\n",
    "df = pd.DataFrame(fea_fuzzy_entropy.features[0,:,:], columns=fea_fuzzy_entropy.feature_names)\n",
    "df.index = [f'Chan {i+1}' for i in range(n_channels)]\n",
    "df"
   ]
  },
  {
   "cell_type": "markdown",
   "id": "56f5c021-e40e-407c-8472-90d7b7236d76",
   "metadata": {},
   "source": [
    "### correlation_matrix"
   ]
  },
  {
   "cell_type": "code",
   "execution_count": null,
   "id": "0b704958-6ae3-4bfc-99dc-6235df7e66a4",
   "metadata": {},
   "outputs": [],
   "source": [
    "fea = Feature(data, sfreq=160, selected_funcs=['correlation_matrix'], funcs_params={\"correlation_matrix__kind\":\"coh\"})"
   ]
  },
  {
   "cell_type": "code",
   "execution_count": null,
   "id": "aea9dc97-2ee4-43ae-bc9d-b762d2afddbd",
   "metadata": {},
   "outputs": [],
   "source": [
    "print(fea.features.shape)\n",
    "fig, ax = plt.subplots(figsize=(8, 8),  facecolor=\"Black\", subplot_kw=dict(polar=True))\n",
    "plot_connectivity_circle(fea.features[0], [f'Chan {i+1}' for i in range(n_channels)],\n",
    "                         title=f'coh function connectivity of motor image',\n",
    "                    colormap=\"hot\",  colorbar_size=0.35, colorbar_pos=(0, 0.5), ax=ax)"
   ]
  },
  {
   "cell_type": "markdown",
   "id": "a5dc28f1-c150-4b86-9adf-25cb485609db",
   "metadata": {},
   "source": [
    "### correlation_dimension"
   ]
  },
  {
   "cell_type": "code",
   "execution_count": 4,
   "id": "70ec1fdd-42f1-4f82-9843-5be7ad67fe84",
   "metadata": {},
   "outputs": [
    {
     "name": "stderr",
     "output_type": "stream",
     "text": [
      "d:\\code_cloud\\new_eeg_deep\\scut_eeg_dl\\scut_eeg_fe\\src\\scuteegfe\\mne_features_wrapper\\feature_wrapper.py:63: UserWarning: 提案的函数sfreq需要再以参数的形式传入\n",
      "  warnings.warn(\"提案的函数sfreq需要再以参数的形式传入\", UserWarning)\n",
      "C:\\software\\Anaconda\\envs\\py3.9\\lib\\site-packages\\sklearn\\metrics\\_regression.py:1211: UndefinedMetricWarning: R^2 score is not well-defined with less than two samples.\n",
      "  warnings.warn(msg, UndefinedMetricWarning)\n",
      "C:\\software\\Anaconda\\envs\\py3.9\\lib\\site-packages\\sklearn\\metrics\\_regression.py:1211: UndefinedMetricWarning: R^2 score is not well-defined with less than two samples.\n",
      "  warnings.warn(msg, UndefinedMetricWarning)\n",
      "C:\\software\\Anaconda\\envs\\py3.9\\lib\\site-packages\\sklearn\\metrics\\_regression.py:1211: UndefinedMetricWarning: R^2 score is not well-defined with less than two samples.\n",
      "  warnings.warn(msg, UndefinedMetricWarning)\n",
      "C:\\software\\Anaconda\\envs\\py3.9\\lib\\site-packages\\nolds\\measures.py:45: RuntimeWarning: RANSAC did not reach consensus, using numpy's polyfit\n",
      "  warnings.warn(\n",
      "C:\\software\\Anaconda\\envs\\py3.9\\lib\\site-packages\\sklearn\\metrics\\_regression.py:1211: UndefinedMetricWarning: R^2 score is not well-defined with less than two samples.\n",
      "  warnings.warn(msg, UndefinedMetricWarning)\n",
      "C:\\software\\Anaconda\\envs\\py3.9\\lib\\site-packages\\sklearn\\metrics\\_regression.py:1211: UndefinedMetricWarning: R^2 score is not well-defined with less than two samples.\n",
      "  warnings.warn(msg, UndefinedMetricWarning)\n",
      "C:\\software\\Anaconda\\envs\\py3.9\\lib\\site-packages\\sklearn\\metrics\\_regression.py:1211: UndefinedMetricWarning: R^2 score is not well-defined with less than two samples.\n",
      "  warnings.warn(msg, UndefinedMetricWarning)\n",
      "C:\\software\\Anaconda\\envs\\py3.9\\lib\\site-packages\\sklearn\\metrics\\_regression.py:1211: UndefinedMetricWarning: R^2 score is not well-defined with less than two samples.\n",
      "  warnings.warn(msg, UndefinedMetricWarning)\n",
      "C:\\software\\Anaconda\\envs\\py3.9\\lib\\site-packages\\sklearn\\metrics\\_regression.py:1211: UndefinedMetricWarning: R^2 score is not well-defined with less than two samples.\n",
      "  warnings.warn(msg, UndefinedMetricWarning)\n",
      "C:\\software\\Anaconda\\envs\\py3.9\\lib\\site-packages\\sklearn\\metrics\\_regression.py:1211: UndefinedMetricWarning: R^2 score is not well-defined with less than two samples.\n",
      "  warnings.warn(msg, UndefinedMetricWarning)\n",
      "C:\\software\\Anaconda\\envs\\py3.9\\lib\\site-packages\\sklearn\\metrics\\_regression.py:1211: UndefinedMetricWarning: R^2 score is not well-defined with less than two samples.\n",
      "  warnings.warn(msg, UndefinedMetricWarning)\n",
      "C:\\software\\Anaconda\\envs\\py3.9\\lib\\site-packages\\sklearn\\metrics\\_regression.py:1211: UndefinedMetricWarning: R^2 score is not well-defined with less than two samples.\n",
      "  warnings.warn(msg, UndefinedMetricWarning)\n",
      "C:\\software\\Anaconda\\envs\\py3.9\\lib\\site-packages\\sklearn\\metrics\\_regression.py:1211: UndefinedMetricWarning: R^2 score is not well-defined with less than two samples.\n",
      "  warnings.warn(msg, UndefinedMetricWarning)\n",
      "C:\\software\\Anaconda\\envs\\py3.9\\lib\\site-packages\\sklearn\\metrics\\_regression.py:1211: UndefinedMetricWarning: R^2 score is not well-defined with less than two samples.\n",
      "  warnings.warn(msg, UndefinedMetricWarning)\n",
      "C:\\software\\Anaconda\\envs\\py3.9\\lib\\site-packages\\sklearn\\metrics\\_regression.py:1211: UndefinedMetricWarning: R^2 score is not well-defined with less than two samples.\n",
      "  warnings.warn(msg, UndefinedMetricWarning)\n",
      "C:\\software\\Anaconda\\envs\\py3.9\\lib\\site-packages\\sklearn\\metrics\\_regression.py:1211: UndefinedMetricWarning: R^2 score is not well-defined with less than two samples.\n",
      "  warnings.warn(msg, UndefinedMetricWarning)\n",
      "C:\\software\\Anaconda\\envs\\py3.9\\lib\\site-packages\\sklearn\\metrics\\_regression.py:1211: UndefinedMetricWarning: R^2 score is not well-defined with less than two samples.\n",
      "  warnings.warn(msg, UndefinedMetricWarning)\n",
      "C:\\software\\Anaconda\\envs\\py3.9\\lib\\site-packages\\sklearn\\metrics\\_regression.py:1211: UndefinedMetricWarning: R^2 score is not well-defined with less than two samples.\n",
      "  warnings.warn(msg, UndefinedMetricWarning)\n",
      "C:\\software\\Anaconda\\envs\\py3.9\\lib\\site-packages\\sklearn\\metrics\\_regression.py:1211: UndefinedMetricWarning: R^2 score is not well-defined with less than two samples.\n",
      "  warnings.warn(msg, UndefinedMetricWarning)\n"
     ]
    },
    {
     "name": "stdout",
     "output_type": "stream",
     "text": [
      "(45, 7, 1)\n",
      "n_epochs:45,n_channels:7,n_features:1\n"
     ]
    },
    {
     "data": {
      "text/html": [
       "<div>\n",
       "<style scoped>\n",
       "    .dataframe tbody tr th:only-of-type {\n",
       "        vertical-align: middle;\n",
       "    }\n",
       "\n",
       "    .dataframe tbody tr th {\n",
       "        vertical-align: top;\n",
       "    }\n",
       "\n",
       "    .dataframe thead th {\n",
       "        text-align: right;\n",
       "    }\n",
       "</style>\n",
       "<table border=\"1\" class=\"dataframe\">\n",
       "  <thead>\n",
       "    <tr style=\"text-align: right;\">\n",
       "      <th></th>\n",
       "      <th>correlation_dimension</th>\n",
       "    </tr>\n",
       "  </thead>\n",
       "  <tbody>\n",
       "    <tr>\n",
       "      <th>Chan 1</th>\n",
       "      <td>-1.512330e-15</td>\n",
       "    </tr>\n",
       "    <tr>\n",
       "      <th>Chan 2</th>\n",
       "      <td>4.694490e-02</td>\n",
       "    </tr>\n",
       "    <tr>\n",
       "      <th>Chan 3</th>\n",
       "      <td>9.946799e-17</td>\n",
       "    </tr>\n",
       "    <tr>\n",
       "      <th>Chan 4</th>\n",
       "      <td>2.335001e-15</td>\n",
       "    </tr>\n",
       "    <tr>\n",
       "      <th>Chan 5</th>\n",
       "      <td>2.038676e-15</td>\n",
       "    </tr>\n",
       "    <tr>\n",
       "      <th>Chan 6</th>\n",
       "      <td>8.864243e-16</td>\n",
       "    </tr>\n",
       "    <tr>\n",
       "      <th>Chan 7</th>\n",
       "      <td>-9.007042e-16</td>\n",
       "    </tr>\n",
       "  </tbody>\n",
       "</table>\n",
       "</div>"
      ],
      "text/plain": [
       "        correlation_dimension\n",
       "Chan 1          -1.512330e-15\n",
       "Chan 2           4.694490e-02\n",
       "Chan 3           9.946799e-17\n",
       "Chan 4           2.335001e-15\n",
       "Chan 5           2.038676e-15\n",
       "Chan 6           8.864243e-16\n",
       "Chan 7          -9.007042e-16"
      ]
     },
     "execution_count": 4,
     "metadata": {},
     "output_type": "execute_result"
    }
   ],
   "source": [
    "fea_cor_dim = Feature(data, sfreq=160,\n",
    "               selected_funcs=['correlation_dimension'],\n",
    "               funcs_params={\"correlation_dimension__emb_dim\":10})\n",
    "print(fea_cor_dim.features.shape)\n",
    "n_epochs, n_channels, n_features = fea_cor_dim.features.shape\n",
    "print(f'n_epochs:{n_epochs},n_channels:{n_channels},n_features:{n_features}')\n",
    "df = pd.DataFrame(fea_cor_dim.features[0,:,:], columns=fea_cor_dim.feature_names)\n",
    "df.index = [f'Chan {i+1}' for i in range(n_channels)]\n",
    "df"
   ]
  },
  {
   "cell_type": "markdown",
   "id": "056bebdc-841e-4561-a47f-c605d4d77c2a",
   "metadata": {},
   "source": [
    "### dispersion_entropy"
   ]
  },
  {
   "cell_type": "code",
   "execution_count": 5,
   "id": "1f33ec2e-b6f5-474b-bc42-1337e91a1911",
   "metadata": {},
   "outputs": [
    {
     "name": "stderr",
     "output_type": "stream",
     "text": [
      "d:\\code_cloud\\new_eeg_deep\\scut_eeg_dl\\scut_eeg_fe\\src\\scuteegfe\\mne_features_wrapper\\feature_wrapper.py:63: UserWarning: 提案的函数sfreq需要再以参数的形式传入\n",
      "  warnings.warn(\"提案的函数sfreq需要再以参数的形式传入\", UserWarning)\n",
      "C:\\software\\Anaconda\\envs\\py3.9\\lib\\site-packages\\spkit\\eeg\\eeg_map.py:516: DeprecationWarning: Please import `Delaunay` from the `scipy.spatial` namespace; the `scipy.spatial.qhull` namespace is deprecated and will be removed in SciPy 2.0.0.\n"
     ]
    },
    {
     "name": "stdout",
     "output_type": "stream",
     "text": [
      "(45, 7, 1)\n",
      "n_epochs:45,n_channels:7,n_features:1\n"
     ]
    },
    {
     "data": {
      "text/html": [
       "<div>\n",
       "<style scoped>\n",
       "    .dataframe tbody tr th:only-of-type {\n",
       "        vertical-align: middle;\n",
       "    }\n",
       "\n",
       "    .dataframe tbody tr th {\n",
       "        vertical-align: top;\n",
       "    }\n",
       "\n",
       "    .dataframe thead th {\n",
       "        text-align: right;\n",
       "    }\n",
       "</style>\n",
       "<table border=\"1\" class=\"dataframe\">\n",
       "  <thead>\n",
       "    <tr style=\"text-align: right;\">\n",
       "      <th></th>\n",
       "      <th>dispersion_entropy</th>\n",
       "    </tr>\n",
       "  </thead>\n",
       "  <tbody>\n",
       "    <tr>\n",
       "      <th>Chan 1</th>\n",
       "      <td>4.019468</td>\n",
       "    </tr>\n",
       "    <tr>\n",
       "      <th>Chan 2</th>\n",
       "      <td>4.031106</td>\n",
       "    </tr>\n",
       "    <tr>\n",
       "      <th>Chan 3</th>\n",
       "      <td>4.048759</td>\n",
       "    </tr>\n",
       "    <tr>\n",
       "      <th>Chan 4</th>\n",
       "      <td>4.062390</td>\n",
       "    </tr>\n",
       "    <tr>\n",
       "      <th>Chan 5</th>\n",
       "      <td>4.017145</td>\n",
       "    </tr>\n",
       "    <tr>\n",
       "      <th>Chan 6</th>\n",
       "      <td>3.998640</td>\n",
       "    </tr>\n",
       "    <tr>\n",
       "      <th>Chan 7</th>\n",
       "      <td>4.019405</td>\n",
       "    </tr>\n",
       "  </tbody>\n",
       "</table>\n",
       "</div>"
      ],
      "text/plain": [
       "        dispersion_entropy\n",
       "Chan 1            4.019468\n",
       "Chan 2            4.031106\n",
       "Chan 3            4.048759\n",
       "Chan 4            4.062390\n",
       "Chan 5            4.017145\n",
       "Chan 6            3.998640\n",
       "Chan 7            4.019405"
      ]
     },
     "execution_count": 5,
     "metadata": {},
     "output_type": "execute_result"
    }
   ],
   "source": [
    "fea_dis_entropy = Feature(data, sfreq=160,\n",
    "               selected_funcs = ['dispersion_entropy'])\n",
    "print(fea_cor_dim.features.shape)\n",
    "n_epochs, n_channels, n_features = fea_dis_entropy.features.shape\n",
    "print(f'n_epochs:{n_epochs},n_channels:{n_channels},n_features:{n_features}')\n",
    "df = pd.DataFrame(fea_dis_entropy.features[0,:,:], columns=fea_dis_entropy.feature_names)\n",
    "df.index = [f'Chan {i+1}' for i in range(n_channels)]\n",
    "df"
   ]
  },
  {
   "cell_type": "code",
   "execution_count": null,
   "id": "a32a3512-ce69-40ff-a72f-f23ad2d47933",
   "metadata": {},
   "outputs": [],
   "source": []
  }
 ],
 "metadata": {
  "kernelspec": {
   "display_name": "Python 3 (ipykernel)",
   "language": "python",
   "name": "python3"
  },
  "language_info": {
   "codemirror_mode": {
    "name": "ipython",
    "version": 3
   },
   "file_extension": ".py",
   "mimetype": "text/x-python",
   "name": "python",
   "nbconvert_exporter": "python",
   "pygments_lexer": "ipython3",
   "version": "3.9.15"
  },
  "widgets": {
   "application/vnd.jupyter.widget-state+json": {
    "state": {},
    "version_major": 2,
    "version_minor": 0
   }
  }
 },
 "nbformat": 4,
 "nbformat_minor": 5
}
