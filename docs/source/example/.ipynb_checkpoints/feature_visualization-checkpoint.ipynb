{
 "cells": [
  {
   "cell_type": "markdown",
   "id": "c9d150e7-e670-4be8-869e-80f14210c6e6",
   "metadata": {},
   "source": [
    "# feature visualization"
   ]
  },
  {
   "cell_type": "markdown",
   "id": "72147c0d-e087-44e2-bdeb-ee3335835c92",
   "metadata": {},
   "source": [
    "## Import related packages"
   ]
  },
  {
   "cell_type": "code",
   "execution_count": 6,
   "id": "67bb3730-3aac-4402-8966-3f8672f57208",
   "metadata": {},
   "outputs": [],
   "source": [
    "import warnings\n",
    "warnings.filterwarnings('ignore')\n",
    "from scuteegfe import Feature\n",
    "import pandas as pd\n",
    "import numpy as np\n",
    "import matplotlib.pyplot as plt\n",
    "import mne"
   ]
  },
  {
   "cell_type": "markdown",
   "id": "eb1c52cc-0e3a-453a-ae21-4cb03d1be706",
   "metadata": {},
   "source": [
    "## generate siganls"
   ]
  },
  {
   "cell_type": "code",
   "execution_count": 8,
   "id": "1265ae6f-e593-4778-a13e-c2d420a894df",
   "metadata": {},
   "outputs": [],
   "source": [
    "data1 = np.empty((50, 5, 100))\n",
    "for epoch in range(50):\n",
    "    for ch in range(5):\n",
    "        data1[epoch, ch] = np.linspace(ch, ch + epoch + 1, 100) + np.sin(np.linspace(-np.pi, np.pi, 100))\n",
    "\n",
    "data2 = np.empty((50, 5, 100))\n",
    "for epoch in range(50):\n",
    "    for ch in range(5):\n",
    "        data2[epoch, ch] = np.linspace(ch, ch + epoch + 1, 100) + np.random.randint(-100, 100) * 0.01 + np.sin(\n",
    "            np.linspace(-np.pi, np.pi, 100)) + 5\n",
    "        if ch == 3:\n",
    "            data2[epoch, ch] = np.zeros(100)"
   ]
  },
  {
   "cell_type": "markdown",
   "id": "f87cb7cc-7e29-446e-9298-b655614b22ad",
   "metadata": {},
   "source": [
    "## all feature visualization"
   ]
  },
  {
   "cell_type": "code",
   "execution_count": null,
   "id": "47d32ef6-faa5-4b3a-ab54-8e6228206811",
   "metadata": {},
   "outputs": [],
   "source": [
    "# calculate all feature\n",
    "fea1 = Feature(data1, selected_funcs = Feature.funcs_subset_no_spect_slope).reorder().fix_missing()\n",
    "fea2 = Feature(data2, selected_funcs = Feature.funcs_subset_no_spect_slope).reorder().fix_missing()\n",
    "\n",
    "Feature.plot_feature_sns(fea1, fea2, ['ch1', 'ch2', 'ch3', 'ch4', 'ch5'])\n",
    "plt.show()\n"
   ]
  },
  {
   "cell_type": "code",
   "execution_count": null,
   "id": "bef9ae95-02a6-4bce-891a-185ccfea628d",
   "metadata": {},
   "outputs": [],
   "source": [
    "_, p = Feature.ttest_feature(fea1, fea2, ['ch1', 'ch2', 'ch3', 'ch4', 'ch5'])\n",
    "plt.show()"
   ]
  },
  {
   "cell_type": "code",
   "execution_count": null,
   "id": "ce6ddc0c-be9b-4811-9903-bcf19ed37b43",
   "metadata": {},
   "outputs": [],
   "source": []
  }
 ],
 "metadata": {
  "kernelspec": {
   "display_name": "py3.9",
   "language": "python",
   "name": "py3.9"
  },
  "language_info": {
   "codemirror_mode": {
    "name": "ipython",
    "version": 3
   },
   "file_extension": ".py",
   "mimetype": "text/x-python",
   "name": "python",
   "nbconvert_exporter": "python",
   "pygments_lexer": "ipython3",
   "version": "3.9.15"
  },
  "widgets": {
   "application/vnd.jupyter.widget-state+json": {
    "state": {},
    "version_major": 2,
    "version_minor": 0
   }
  }
 },
 "nbformat": 4,
 "nbformat_minor": 5
}
